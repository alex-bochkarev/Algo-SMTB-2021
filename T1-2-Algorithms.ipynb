{
 "cells": [
  {
   "cell_type": "markdown",
   "metadata": {
    "slideshow": {
     "slide_type": "slide"
    }
   },
   "source": [
    "![Title picture](./img/title_RUS.png)\n",
    "<br>\n",
    "**Lecture:** 🇷🇺 / **Slides:** 🇺🇸 <br>\n",
    "**Talk:** discord `#co15-ликбез-по-алгоритмам` (🇷🇺)"
   ]
  },
  {
   "cell_type": "markdown",
   "metadata": {
    "slideshow": {
     "slide_type": "slide"
    }
   },
   "source": [
    "*SMTB-2021: A Glimpse into Algorithms | Alexey Bochkarev* ([🖂](mailto:a@bochkarev.io), [🌐](https://www.bochkarev.io/contact))\n",
    "\n",
    "# The main goal <a class=\"tocSkip\">\n",
    "    \n",
    "- To *mention* some key definitions and \"buzzwords\", \n",
    "- To provide a first glimpse on the structure of the material out there. **(not a substitute to a proper CS course)**\n",
    "- So you could learn more if needed, and know what to google."
   ]
  },
  {
   "cell_type": "markdown",
   "metadata": {
    "slideshow": {
     "slide_type": "slide"
    }
   },
   "source": [
    "**Why bother?**\n",
    "- to create / implement algorithms,\n",
    "- to understand what is going on in a paper,\n",
    "- to understand what is possible (or not), and what to use for your problem at hand.\n",
    "    \n",
    "**Prereqs:** ability to read (pseudo-)code -- we will use Python 3."
   ]
  },
  {
   "cell_type": "markdown",
   "metadata": {
    "slideshow": {
     "slide_type": "slide"
    }
   },
   "source": [
    "# Technical: How to open these notebooks <a class=\"tocSkip\">\n",
    "- The updated version is on the School GDrive and [Github](https://github.com/alex-bochkarev/Algo-SMTB-2021) ([how to clone](https://docs.github.com/en/github/creating-cloning-and-archiving-repositories/cloning-a-repository) or [download ZIP](https://github.com/alex-bochkarev/SMTB-Algo/archive/master.zip))\n",
    "- You'd need Python 3 along with several packages (hopefully `conda install <what-is-missing>` will help you just in case).\n",
    "- With a (free) Google account, you can [![Open it in Colab](https://colab.research.google.com/assets/colab-badge.svg)](https://colab.research.google.com/github/alex-bochkarev/Algo-SMTB-21/blob/master/T1-2-Algorithms.ipynb)\n",
    "- Finally, `nbviewer` (see the link in `README`) renders it read-only, but zero-config.\n",
    "    \n",
    "**Note:** The presentation was made from this very notebook.\n",
    "\n",
    "**COMMENTS / SUGGESTIONS ARE VERY WELCOME!**"
   ]
  },
  {
   "cell_type": "markdown",
   "metadata": {
    "slideshow": {
     "slide_type": "slide"
    }
   },
   "source": [
    "# Course intro <a class=\"tocSkip\">\n",
    "- Welcome!\n",
    "- Course [outline](./README.org) and logistics/tech.\n",
    "  + 👉 **Topic 1:** we will try *designing* algorithms, taking sorting problem as an example (and using several approaches you might have heared about).\n",
    "  + 👉 **Topic 2:** we will discuss more systematically how to compare algorithms, focusing on the concept of runtime.\n",
    "  + **Topic 3:** a specific example of a more \"biological\" algorithm (aligning sequences),\n",
    "  + **Topic 4:** let's talk data structures."
   ]
  },
  {
   "cell_type": "code",
   "execution_count": 1,
   "metadata": {
    "slideshow": {
     "slide_type": "fragment"
    }
   },
   "outputs": [],
   "source": [
    "# import libraries for today:\n",
    "import numpy as np # numbers/arrays manipulation\n",
    "from copy import copy\n",
    "from itertools import permutations"
   ]
  },
  {
   "cell_type": "markdown",
   "metadata": {
    "slideshow": {
     "slide_type": "slide"
    }
   },
   "source": [
    "# Topic 1: Algorithms intro <a class=\"tocSkip\">\n",
    "<br><br><br>\n",
    "\n",
    "<div style=\"text-align: right\"> <em>Alexey Bochkarev, 2021, a [at] bochkarev (dot) io </em></div>"
   ]
  },
  {
   "cell_type": "markdown",
   "metadata": {
    "slideshow": {
     "slide_type": "slide"
    }
   },
   "source": [
    "**Content of the first topic (today):**\n",
    "- What is an algorithm (vs. a computer program).\n",
    "- Key properties: correctness, time, and space requirements (without details)\n",
    "- Several examples of sorting algorithms\n",
    "- Correctness and testing\n",
    "- A word on algorithmic *frameworks* / \"types\" of algorithms: greedy, D&C, randomized, brute-force, DP, ..."
   ]
  },
  {
   "cell_type": "markdown",
   "metadata": {
    "slideshow": {
     "slide_type": "slide"
    }
   },
   "source": [
    "## What is an algorithm?\n",
    "Well, a recipe. Not good as a strict definition, but as put by [The Economist](https://www.economist.com/the-economist-explains/2017/08/29/what-are-algorithms),\n",
    "\n",
    "*An algorithm is, essentially, a brainless way of doing clever things.*\n",
    "\n",
    "A clear, step-by-step instructions manual, how to acheive something specific. Like, \n",
    "- get to the bus stop from some specific point, \n",
    "- sort an array of $N$ numbers, or\n",
    "- assemble the original genome sequence from a smaller, potentially overlapping pieces. \n",
    "- ...and so on.\n",
    "\n",
    "(Without too vague instructions.)\n",
    "\n",
    "Not a big deal, so far..."
   ]
  },
  {
   "cell_type": "markdown",
   "metadata": {
    "slideshow": {
     "slide_type": "subslide"
    }
   },
   "source": [
    "**Note:** algorithm $\\neq$ computer program. The former are abstract solution procedures, recipes, while the latter are their implementations in some specific programming language.\n",
    "\n",
    "We will talk about **algorithms** today -- but we'll consider some specific examples of **programs** too. I suppose, it will be a little easier this way."
   ]
  },
  {
   "cell_type": "markdown",
   "metadata": {
    "slideshow": {
     "slide_type": "fragment"
    }
   },
   "source": [
    "In order to discuss and illustrate some of these, let us pick a specific problem as an example."
   ]
  },
  {
   "cell_type": "markdown",
   "metadata": {
    "slideshow": {
     "slide_type": "slide"
    }
   },
   "source": [
    "### A specific example: sorting <a class=\"tocSkip\">\n",
    "**INPUT:**   an array of some fixed length, $N$. Say, integer numbers<br>\n",
    "**OUTPUT:**  a sorted version of the same array (each next number is larger than the previous one).\n",
    "    \n",
    "For example, [4,6,1,3,2,5,7] $\\rightarrow$ [1,2,3,4,5,6,7]. Obviously, there are many ways to approach the problem. "
   ]
  },
  {
   "cell_type": "markdown",
   "metadata": {
    "slideshow": {
     "slide_type": "fragment"
    }
   },
   "source": [
    "That is why we consider it in first place: it is easy to understand,\n",
    "and fun to solve."
   ]
  },
  {
   "cell_type": "markdown",
   "metadata": {
    "slideshow": {
     "slide_type": "slide"
    }
   },
   "source": [
    "The key technical staple of the course:\n",
    "\n",
    "> **Talk is cheap. Show me the code.**\n",
    "> \n",
    "> *Linus Torvalds*"
   ]
  },
  {
   "cell_type": "markdown",
   "metadata": {
    "slideshow": {
     "slide_type": "slide"
    }
   },
   "source": [
    "**First:** let's start from an intuitive definition: a sorted array is such that the smallest elements go left. Well, okay, we can implement this in a **\"greedy\"** fashion."
   ]
  },
  {
   "cell_type": "code",
   "execution_count": 2,
   "metadata": {
    "slideshow": {
     "slide_type": "slide"
    }
   },
   "outputs": [],
   "source": [
    "def swap(array, i, j):\n",
    "    \"\"\"Swaps two elements (with indices ``i`` and ``j``) within ``array``.\"\"\"\n",
    "    if i==j:\n",
    "        return  # just do nothing\n",
    "\n",
    "    old_i = array[i]\n",
    "    array[i] = array[j]\n",
    "    array[j] = old_i"
   ]
  },
  {
   "cell_type": "code",
   "execution_count": 3,
   "metadata": {
    "slideshow": {
     "slide_type": "slide"
    }
   },
   "outputs": [],
   "source": [
    "def selection_sort(input_array):\n",
    "    \"\"\"Sorts ``input_array`` by moving the smallest element at each step.\"\"\"\n",
    "    sorted_array = copy(input_array)\n",
    "\n",
    "    for first_unsorted in range(0, len(sorted_array)-1):\n",
    "        min_element_i = first_unsorted\n",
    "        for i in range(first_unsorted+1, len(sorted_array)):\n",
    "            if sorted_array[i] < sorted_array[min_element_i]:\n",
    "                min_element_i = i\n",
    "\n",
    "        swap(sorted_array, first_unsorted, min_element_i)\n",
    "\n",
    "    return sorted_array"
   ]
  },
  {
   "cell_type": "code",
   "execution_count": 4,
   "metadata": {
    "slideshow": {
     "slide_type": "fragment"
    }
   },
   "outputs": [
    {
     "name": "stdout",
     "output_type": "stream",
     "text": [
      "[1, 2, 3, 4, 5]\n",
      "[1, 2, 3, 5, 7]\n",
      "[1, 2, 3, 4, 5]\n"
     ]
    }
   ],
   "source": [
    "print(selection_sort([5,4,3,1,2]))\n",
    "print(selection_sort([1,3,5,2,7]))\n",
    "print(selection_sort([1,2,3,4,5]))"
   ]
  },
  {
   "cell_type": "markdown",
   "metadata": {
    "slideshow": {
     "slide_type": "slide"
    }
   },
   "source": [
    "Another idea: how would you check that the array is sorted?"
   ]
  },
  {
   "cell_type": "markdown",
   "metadata": {
    "slideshow": {
     "slide_type": "fragment"
    }
   },
   "source": [
    "Well, easy:"
   ]
  },
  {
   "cell_type": "code",
   "execution_count": 5,
   "metadata": {
    "slideshow": {
     "slide_type": "fragment"
    }
   },
   "outputs": [],
   "source": [
    "def is_sorted(array):\n",
    "    \"\"\"Checks if ``array`` is sorted.\"\"\"\n",
    "    for i in range(len(array)-1):\n",
    "        if array[i] > array[i+1]:\n",
    "            return False\n",
    "\n",
    "    return True  # we haven't found anything suspicious"
   ]
  },
  {
   "cell_type": "code",
   "execution_count": 6,
   "metadata": {
    "slideshow": {
     "slide_type": "fragment"
    }
   },
   "outputs": [
    {
     "name": "stdout",
     "output_type": "stream",
     "text": [
      "True\n",
      "False\n"
     ]
    }
   ],
   "source": [
    "print(is_sorted([1,2,3,4,5]))\n",
    "print(is_sorted([1,5,3,4,2]))"
   ]
  },
  {
   "cell_type": "markdown",
   "metadata": {
    "slideshow": {
     "slide_type": "slide"
    }
   },
   "source": [
    "### Oh, let's use this idea!\n",
    "\n",
    "First, without applying any thought:"
   ]
  },
  {
   "cell_type": "code",
   "execution_count": 7,
   "metadata": {
    "slideshow": {
     "slide_type": "fragment"
    }
   },
   "outputs": [],
   "source": [
    "## A really, really straightforward approach:\n",
    "def brute_force_enum_sort(input_array):\n",
    "    \"\"\"Just tries everything until the array is sorted.\"\"\"\n",
    "    for perm in permutations(input_array):\n",
    "        if is_sorted(perm):\n",
    "            return list(perm)\n",
    "\n",
    "    return None  # something must have gone very wrong if we are here"
   ]
  },
  {
   "cell_type": "markdown",
   "metadata": {
    "slideshow": {
     "slide_type": "fragment"
    }
   },
   "source": [
    "Do you see a problem with this?"
   ]
  },
  {
   "cell_type": "code",
   "execution_count": 8,
   "metadata": {
    "slideshow": {
     "slide_type": "slide"
    }
   },
   "outputs": [
    {
     "name": "stdout",
     "output_type": "stream",
     "text": [
      "CPU times: user 1.52 s, sys: 0 ns, total: 1.52 s\n",
      "Wall time: 1.52 s\n"
     ]
    },
    {
     "data": {
      "text/plain": [
       "[0, 1, 2, 3, 5, 6, 7, 9, 10, 15]"
      ]
     },
     "execution_count": 8,
     "metadata": {},
     "output_type": "execute_result"
    }
   ],
   "source": [
    "%time brute_force_enum_sort([3,2,5,7,10,15,0,6,9,1])"
   ]
  },
  {
   "cell_type": "code",
   "execution_count": 9,
   "metadata": {
    "slideshow": {
     "slide_type": "fragment"
    }
   },
   "outputs": [
    {
     "name": "stdout",
     "output_type": "stream",
     "text": [
      "CPU times: user 48 µs, sys: 0 ns, total: 48 µs\n",
      "Wall time: 52.7 µs\n"
     ]
    },
    {
     "data": {
      "text/plain": [
       "[0, 1, 2, 3, 5, 6, 7, 9, 10, 15]"
      ]
     },
     "execution_count": 9,
     "metadata": {},
     "output_type": "execute_result"
    }
   ],
   "source": [
    "# For reference:\n",
    "%time selection_sort([3,2,5,7,10,15,0,6,9,1])"
   ]
  },
  {
   "cell_type": "markdown",
   "metadata": {
    "slideshow": {
     "slide_type": "slide"
    }
   },
   "source": [
    "(okay, we won't consider this further -- it is ridiculously slow!)\n",
    "\n",
    "*But:* In `is_sorted` we can not just cry with `False` if we found a problem, but fix it! Let's see if we can implement this idea in the code:"
   ]
  },
  {
   "cell_type": "code",
   "execution_count": 10,
   "metadata": {
    "slideshow": {
     "slide_type": "fragment"
    }
   },
   "outputs": [],
   "source": [
    "def bubble_sort(input_array):\n",
    "    \"\"\"Sorts the ``input_array`` with Bubble sort algorithm.\n",
    "\n",
    "    (see https://en.wikipedia.org/wiki/Bubble_sort for more info)\n",
    "    \"\"\"\n",
    "    done = False\n",
    "    sorted_array = copy(input_array)\n",
    "\n",
    "    while not done:\n",
    "        done = True\n",
    "        for i in range(len(input_array)-1):\n",
    "            if sorted_array[i] > sorted_array[i+1]:\n",
    "                # here's a problem!\n",
    "                swap(sorted_array, i, i+1)\n",
    "                done = False\n",
    "\n",
    "    return sorted_array"
   ]
  },
  {
   "cell_type": "code",
   "execution_count": 11,
   "metadata": {
    "scrolled": true,
    "slideshow": {
     "slide_type": "fragment"
    }
   },
   "outputs": [
    {
     "name": "stdout",
     "output_type": "stream",
     "text": [
      "[1, 2, 3, 4, 5, 6, 7]\n",
      "[1, 2, 4, 6, 7]\n"
     ]
    }
   ],
   "source": [
    "print(bubble_sort([4,6,1,3,2,5,7]))\n",
    "print(bubble_sort([6,4,7,1,2]))"
   ]
  },
  {
   "cell_type": "markdown",
   "metadata": {
    "slideshow": {
     "slide_type": "subslide"
    }
   },
   "source": [
    "### Any other possible algorithms, though? <a class=\"tocSkip\">\n",
    "(also see the mandatory [xkcd](https://xkcd.com/1185/); don't try to run at home :))"
   ]
  },
  {
   "cell_type": "code",
   "execution_count": 12,
   "metadata": {
    "slideshow": {
     "slide_type": "fragment"
    }
   },
   "outputs": [],
   "source": [
    "def panic_sort(input_array):\n",
    "    \"\"\"Sorts ``input_array`` with a famous (although, non-existent)\n",
    "    panic sort algorithm.\n",
    "    \"\"\"\n",
    "    np.random.seed(1234)\n",
    "\n",
    "    output_array = copy(input_array)  # uh, okay, let's start somewhere\n",
    "\n",
    "    for i in range(1000):\n",
    "        output_array = np.random.permutation(output_array) ## come on, come on!..\n",
    "\n",
    "    return output_array"
   ]
  },
  {
   "cell_type": "code",
   "execution_count": 13,
   "metadata": {
    "slideshow": {
     "slide_type": "fragment"
    }
   },
   "outputs": [
    {
     "data": {
      "text/plain": [
       "array([ 1,  2,  3,  4,  5,  6,  7,  8,  9, 10])"
      ]
     },
     "execution_count": 13,
     "metadata": {},
     "output_type": "execute_result"
    }
   ],
   "source": [
    "A = [3,7,9,8,6,2,5,1,10,4]\n",
    "panic_sort(A)"
   ]
  },
  {
   "cell_type": "code",
   "execution_count": 14,
   "metadata": {
    "slideshow": {
     "slide_type": "slide"
    }
   },
   "outputs": [
    {
     "name": "stdout",
     "output_type": "stream",
     "text": [
      "[   5    7   13   35   47   48   50   50   51  136  200  202  207 1024]\n"
     ]
    }
   ],
   "source": [
    "A = [136,1024,50,47,51,48,5,13,35,207,200,202,50,7]\n",
    "print(panic_sort(A))"
   ]
  },
  {
   "cell_type": "code",
   "execution_count": 15,
   "metadata": {
    "slideshow": {
     "slide_type": "fragment"
    }
   },
   "outputs": [
    {
     "data": {
      "text/plain": [
       "True"
      ]
     },
     "execution_count": 15,
     "metadata": {},
     "output_type": "execute_result"
    }
   ],
   "source": [
    "is_sorted( panic_sort(A) )"
   ]
  },
  {
   "cell_type": "markdown",
   "metadata": {
    "slideshow": {
     "slide_type": "subslide"
    }
   },
   "source": [
    "### or (this one is tricky): <a class=\"tocSkip\">\n",
    "Hey, what if I already know the correct order? Is it worth the hassle at all?.."
   ]
  },
  {
   "cell_type": "code",
   "execution_count": 16,
   "metadata": {
    "slideshow": {
     "slide_type": "fragment"
    }
   },
   "outputs": [],
   "source": [
    "def real_quick_sort(input_array):\n",
    "    \"\"\"*Kinda* sorts `input_array` by returning consecutive numbers 1,..,N\n",
    "    (where ``N`` is the length of ``input_array``)\n",
    "    \"\"\"\n",
    "\n",
    "    N = len(input_array)\n",
    "    # throw away ``input_array`` altogether\n",
    "\n",
    "    return([i for i in range(1, N+1)])"
   ]
  },
  {
   "cell_type": "code",
   "execution_count": 17,
   "metadata": {
    "slideshow": {
     "slide_type": "fragment"
    }
   },
   "outputs": [
    {
     "data": {
      "text/plain": [
       "[1, 2, 3, 4, 5]"
      ]
     },
     "execution_count": 17,
     "metadata": {},
     "output_type": "execute_result"
    }
   ],
   "source": [
    "real_quick_sort([1,5,4,2,3])"
   ]
  },
  {
   "cell_type": "code",
   "execution_count": 18,
   "metadata": {
    "scrolled": true,
    "slideshow": {
     "slide_type": "fragment"
    }
   },
   "outputs": [
    {
     "data": {
      "text/plain": [
       "[1, 2, 3, 4, 5, 6, 7]"
      ]
     },
     "execution_count": 18,
     "metadata": {},
     "output_type": "execute_result"
    }
   ],
   "source": [
    "real_quick_sort([4,6,1,3,2,5,7])"
   ]
  },
  {
   "cell_type": "markdown",
   "metadata": {
    "slideshow": {
     "slide_type": "slide"
    }
   },
   "source": [
    "## So, by now we have four sorting algorithms\n",
    "- selection sort\n",
    "- bubble sort\n",
    "- real-quick sort (*)\n",
    "- panic sort (*)\n",
    "\n",
    "Let's compare them!\n",
    "\n",
    "(*) have sort of limited applicability :)"
   ]
  },
  {
   "cell_type": "markdown",
   "metadata": {
    "slideshow": {
     "slide_type": "slide"
    }
   },
   "source": [
    "### What are some important properties of the algorithms?\n",
    "Thoughts?"
   ]
  },
  {
   "cell_type": "markdown",
   "metadata": {
    "slideshow": {
     "slide_type": "fragment"
    }
   },
   "source": [
    "- does it result in a desirable outcome? **(correctness)**\n",
    "- how much memory does it take? **(space/memory requirement)**\n",
    "- how fast is it? **(runtime)**\n",
    "\n",
    "But also:\n",
    "- can I run it over several machines (or just cores)?\n",
    "- is it understandable, after all?.."
   ]
  },
  {
   "cell_type": "markdown",
   "metadata": {
    "slideshow": {
     "slide_type": "subslide"
    }
   },
   "source": [
    "### Correctness\n",
    "- this is something you need to **prove** rigorously;\n",
    "- however, first, let's prepare a tiny **testing unit** to check if our algorithms work. It won't guarantee anything, but would *suggest* that we haven't screwed up anywhere."
   ]
  },
  {
   "cell_type": "code",
   "execution_count": 19,
   "metadata": {},
   "outputs": [
    {
     "data": {
      "text/plain": [
       "([1, 2, 3, 4, 5], [4, 2, 3, 1, 5])"
      ]
     },
     "execution_count": 19,
     "metadata": {},
     "output_type": "execute_result"
    }
   ],
   "source": [
    "def get_consec_instance(N):\n",
    "    \"\"\"Generates a test instance of length `N` (consecutive numbers).\n",
    "    \n",
    "    How: creates a random permutation of consecutive\n",
    "    integers 1, ..., N.\n",
    "\n",
    "    Returns:\n",
    "        A tuple, sorted array and unsorted array.\n",
    "    \"\"\"\n",
    "    input_sorted = [i+1 for i in range(N)] # generate a sequence of numbers\n",
    "\n",
    "    input_unsorted = np.random.permutation(input_sorted)\n",
    "    return input_sorted, list(input_unsorted)\n",
    "\n",
    "get_consec_instance(5)"
   ]
  },
  {
   "cell_type": "code",
   "execution_count": 20,
   "metadata": {
    "slideshow": {
     "slide_type": "subslide"
    }
   },
   "outputs": [
    {
     "data": {
      "text/plain": [
       "([1, 4, 7, 10, 13, 15, 17, 20, 21, 22], [4, 13, 21, 7, 22, 17, 20, 10, 15, 1])"
      ]
     },
     "execution_count": 20,
     "metadata": {},
     "output_type": "execute_result"
    }
   ],
   "source": [
    "def get_rnd_instance(N):\n",
    "    \"\"\"Generates a test instance of length `N` (random numbers).\n",
    "\n",
    "    How: creates a sorted array first\n",
    "    (by adding random numbers consecutively),\n",
    "    then returns a random permutation of the sorted array.\n",
    "\n",
    "    Returns:\n",
    "        A tuple, sorted array and unsorted array.\n",
    "    \"\"\"\n",
    "    input_sorted = [np.random.randint(low=0, high= N // 2)]  # the first number\n",
    "    \n",
    "    for i in range(1,N):\n",
    "        input_sorted.append(input_sorted[i-1] + \\\n",
    "                            np.random.randint(low=1, high=N // 2))\n",
    "\n",
    "    input_unsorted = np.random.permutation(input_sorted)\n",
    "\n",
    "    return input_sorted, list(input_unsorted)\n",
    "\n",
    "get_rnd_instance(10)"
   ]
  },
  {
   "cell_type": "code",
   "execution_count": 21,
   "metadata": {
    "slideshow": {
     "slide_type": "subslide"
    }
   },
   "outputs": [],
   "source": [
    "def test_algo(label, sort_function, instances_list):\n",
    "    \"\"\"Tests given algorithm against a set of instances.\n",
    "\n",
    "    Args:\n",
    "        label (str):                algorithm label to print,\n",
    "        sort_function (function):   algorithm implementation,\n",
    "        instances_list (list):      a list of instances, each element represents \n",
    "            a pair of versions (sorted, unsorted)\n",
    "\n",
    "    Returns:\n",
    "        nothing. Prints summary to the screen. For each instance:\n",
    "        a dot (.) if successful, instance summary if not.\n",
    "    \"\"\"\n",
    "    print(f\"Testing algo: `{label}`\")\n",
    "\n",
    "    n_failed = 0\n",
    "    for instance in instances_list:\n",
    "        arr_sorted, arr_unsorted = instance\n",
    "        out = sort_function(arr_unsorted)\n",
    "        if np.all(out == arr_sorted):\n",
    "            print(\".\", end=\"\")\n",
    "        else:\n",
    "            print(f\"\\nFAIL: expected {arr_sorted}, returned {out}\", end=\"\")\n",
    "            n_failed += 1\n",
    "    print(f\"\\ndone. FAILS: {n_failed} out of {len(instances_list)} ({n_failed*100 / len(instances_list):.1f}%)\")"
   ]
  },
  {
   "cell_type": "markdown",
   "metadata": {
    "slideshow": {
     "slide_type": "fragment"
    }
   },
   "source": [
    "OK, let's see if our algorithms work:"
   ]
  },
  {
   "cell_type": "code",
   "execution_count": 22,
   "metadata": {
    "scrolled": false,
    "slideshow": {
     "slide_type": "subslide"
    }
   },
   "outputs": [
    {
     "name": "stdout",
     "output_type": "stream",
     "text": [
      "==================================================\n",
      "Testing algo: `Selection sort`\n",
      "....................................................................................................\n",
      "done. FAILS: 0 out of 100 (0.0%)\n",
      "==================================================\n",
      "Testing algo: `Bubble sort`\n",
      "....................................................................................................\n",
      "done. FAILS: 0 out of 100 (0.0%)\n",
      "==================================================\n",
      "Testing algo: `Panic sort`\n",
      "\n",
      "FAIL: expected [1, 2, 3, 4, 5, 6, 7, 8, 9, 10], returned [ 7 10  2  5  9  3  8  6  1  4]\n",
      "FAIL: expected [1, 2, 3, 4, 5, 6, 7, 8, 9, 10], returned [ 6  5  3 10  2  7  9  4  1  8]\n",
      "FAIL: expected [1, 2, 3, 4, 5, 6, 7, 8, 9, 10], returned [ 8  6  7  3  9  5 10  4  2  1]\n",
      "FAIL: expected [1, 2, 3, 4, 5, 6, 7, 8, 9, 10], returned [ 3  5  6 10  1  8  4  2  7  9]\n",
      "FAIL: expected [1, 2, 3, 4, 5, 6, 7, 8, 9, 10], returned [ 9  3  2  1  4  7  5 10  8  6]\n",
      "FAIL: expected [1, 2, 3, 4, 5, 6, 7, 8, 9, 10], returned [ 7  5  6  9  8 10  3  4  2  1]\n",
      "FAIL: expected [1, 2, 3, 4, 5, 6, 7, 8, 9, 10], returned [ 6  4  2  5  7  8  9  3 10  1]\n",
      "FAIL: expected [1, 2, 3, 4, 5, 6, 7, 8, 9, 10], returned [ 7  9 10  1  5  3  6  2  8  4]\n",
      "FAIL: expected [1, 2, 3, 4, 5, 6, 7, 8, 9, 10], returned [10  2  8  1  4  6  7  9  5  3]\n",
      "FAIL: expected [1, 2, 3, 4, 5, 6, 7, 8, 9, 10], returned [10  2  7  4  1  3  8  5  6  9]\n",
      "FAIL: expected [1, 2, 3, 4, 5, 6, 7, 8, 9, 10], returned [ 8  6  3  7 10  2  1  9  5  4]\n",
      "FAIL: expected [1, 2, 3, 4, 5, 6, 7, 8, 9, 10], returned [ 1  3  6  9 10  7  4  8  5  2]\n",
      "FAIL: expected [1, 2, 3, 4, 5, 6, 7, 8, 9, 10], returned [ 3  8  1  5  6  4  2  9  7 10]\n",
      "FAIL: expected [1, 2, 3, 4, 5, 6, 7, 8, 9, 10], returned [10  1  2  4  3  5  9  6  8  7]\n",
      "FAIL: expected [1, 2, 3, 4, 5, 6, 7, 8, 9, 10], returned [ 9  1  2  8 10  3  6  7  5  4]\n",
      "FAIL: expected [1, 2, 3, 4, 5, 6, 7, 8, 9, 10], returned [ 6  7  3  2  8 10  1  9  5  4]\n",
      "FAIL: expected [1, 2, 3, 4, 5, 6, 7, 8, 9, 10], returned [ 1  3 10  7  5  8  9  6  4  2]\n",
      "FAIL: expected [1, 2, 3, 4, 5, 6, 7, 8, 9, 10], returned [ 8  2  9  1  4 10  3  7  6  5]\n",
      "FAIL: expected [1, 2, 3, 4, 5, 6, 7, 8, 9, 10], returned [ 1  6  5  2 10  3  9  4  7  8]\n",
      "FAIL: expected [1, 2, 3, 4, 5, 6, 7, 8, 9, 10], returned [ 3  4  8  5  7  1  6  9  2 10]\n",
      "FAIL: expected [1, 2, 3, 4, 5, 6, 7, 8, 9, 10], returned [ 8  2  9  1 10  4  6  7  3  5]\n",
      "FAIL: expected [1, 2, 3, 4, 5, 6, 7, 8, 9, 10], returned [ 2  5 10  4  1  3  8  7  9  6]\n",
      "FAIL: expected [1, 2, 3, 4, 5, 6, 7, 8, 9, 10], returned [10  6  7  3  1  9  8  2  5  4]\n",
      "FAIL: expected [1, 2, 3, 4, 5, 6, 7, 8, 9, 10], returned [ 3  6 10  7  8  9  2  1  4  5]\n",
      "FAIL: expected [1, 2, 3, 4, 5, 6, 7, 8, 9, 10], returned [10  3  9  4  5  1  8  6  2  7]\n",
      "FAIL: expected [1, 2, 3, 4, 5, 6, 7, 8, 9, 10], returned [10  5  9  2  8  6  3  4  1  7]\n",
      "FAIL: expected [1, 2, 3, 4, 5, 6, 7, 8, 9, 10], returned [ 6 10  9  4  7  8  2  3  1  5]\n",
      "FAIL: expected [1, 2, 3, 4, 5, 6, 7, 8, 9, 10], returned [ 6 10  7  4  5  8  1  2  9  3]\n",
      "FAIL: expected [1, 2, 3, 4, 5, 6, 7, 8, 9, 10], returned [ 3  5  6  8  9 10  2  1  7  4]\n",
      "FAIL: expected [1, 2, 3, 4, 5, 6, 7, 8, 9, 10], returned [ 4  6  3  7  9  5 10  2  8  1]\n",
      "FAIL: expected [1, 2, 3, 4, 5, 6, 7, 8, 9, 10], returned [10  9  1  6  8  5  3  4  2  7]\n",
      "FAIL: expected [1, 2, 3, 4, 5, 6, 7, 8, 9, 10], returned [ 9 10  1  7  8  2  5  3  6  4]\n",
      "FAIL: expected [1, 2, 3, 4, 5, 6, 7, 8, 9, 10], returned [ 1  9  8  6  5  2  3  7 10  4]\n",
      "FAIL: expected [1, 2, 3, 4, 5, 6, 7, 8, 9, 10], returned [ 7  9 10  3  5  8  4  6  1  2]\n",
      "FAIL: expected [1, 2, 3, 4, 5, 6, 7, 8, 9, 10], returned [ 9 10  2  5  3  8  4  6  1  7]\n",
      "FAIL: expected [1, 2, 3, 4, 5, 6, 7, 8, 9, 10], returned [ 3  4  9  5  8 10  6  7  1  2]\n",
      "FAIL: expected [1, 2, 3, 4, 5, 6, 7, 8, 9, 10], returned [ 1  5  9 10  4  8  2  3  7  6]\n",
      "FAIL: expected [1, 2, 3, 4, 5, 6, 7, 8, 9, 10], returned [ 6  4  7  8  3  9 10  1  2  5]\n",
      "FAIL: expected [1, 2, 3, 4, 5, 6, 7, 8, 9, 10], returned [ 1  7  5  3  8  6  4 10  9  2]\n",
      "FAIL: expected [1, 2, 3, 4, 5, 6, 7, 8, 9, 10], returned [ 4  8  7  3  6  9  1 10  5  2]\n",
      "FAIL: expected [1, 2, 3, 4, 5, 6, 7, 8, 9, 10], returned [ 7  3  1  6  4  8 10  9  2  5]\n",
      "FAIL: expected [1, 2, 3, 4, 5, 6, 7, 8, 9, 10], returned [ 2  4  7  9  1 10  5  8  6  3]\n",
      "FAIL: expected [1, 2, 3, 4, 5, 6, 7, 8, 9, 10], returned [ 2 10  3  8  7  4  9  5  6  1]\n",
      "FAIL: expected [1, 2, 3, 4, 5, 6, 7, 8, 9, 10], returned [ 1  4  6  5  9 10  8  7  3  2]\n",
      "FAIL: expected [1, 2, 3, 4, 5, 6, 7, 8, 9, 10], returned [10  2  9  6  4  3  1  7  8  5]\n",
      "FAIL: expected [1, 2, 3, 4, 5, 6, 7, 8, 9, 10], returned [ 3  8  6  4  2  7 10  5  1  9]\n",
      "FAIL: expected [1, 2, 3, 4, 5, 6, 7, 8, 9, 10], returned [10  9  2  5  1  8  7  6  3  4]\n",
      "FAIL: expected [1, 2, 3, 4, 5, 6, 7, 8, 9, 10], returned [ 1  2  8 10  9  7  3  6  5  4]\n",
      "FAIL: expected [1, 2, 3, 4, 5, 6, 7, 8, 9, 10], returned [ 4  1  2  3  7 10  5  6  9  8]\n",
      "FAIL: expected [1, 2, 3, 4, 5, 6, 7, 8, 9, 10], returned [ 1  2  7  9  4  8  6  3 10  5]\n",
      "FAIL: expected [3, 7, 10, 11, 14, 18, 20, 22, 26, 27], returned [ 3 26 20 10 11 14 27 22  7 18]\n",
      "FAIL: expected [0, 2, 5, 8, 11, 15, 17, 19, 20, 21], returned [ 8  2  5 20  0 19 15 11 17 21]\n",
      "FAIL: expected [2, 3, 7, 9, 13, 17, 20, 21, 22, 23], returned [ 9 17 23 22 20  3 21 13  7  2]\n",
      "FAIL: expected [1, 5, 9, 11, 15, 16, 17, 18, 21, 25], returned [25  1  9  5 11 15 18 16 21 17]\n",
      "FAIL: expected [1, 5, 9, 12, 15, 16, 18, 21, 25, 27], returned [27 15 16 12 21 25  5 18  9  1]\n",
      "FAIL: expected [4, 6, 8, 9, 12, 13, 17, 21, 23, 24], returned [13 24  6 21  4 17  8 12 23  9]\n",
      "FAIL: expected [2, 3, 6, 8, 10, 13, 17, 19, 22, 24], returned [ 6 22 19 10  2  8  3 24 13 17]\n",
      "FAIL: expected [3, 6, 8, 12, 16, 19, 22, 26, 30, 32], returned [22 32 12 19  6  8  3 26 30 16]\n",
      "FAIL: expected [1, 2, 5, 6, 9, 11, 15, 17, 19, 21], returned [ 9  6 11  5  1  2 19 17 21 15]\n",
      "FAIL: expected [1, 3, 6, 7, 11, 15, 16, 20, 24, 27], returned [15 27 16 24  6  3  1  7 20 11]\n",
      "FAIL: expected [4, 8, 10, 14, 16, 19, 20, 22, 23, 25], returned [16 20 22  4 25 23 14 10 19  8]\n",
      "FAIL: expected [3, 7, 9, 10, 14, 15, 17, 20, 24, 26], returned [20 17  7 15 26  3  9 24 14 10]\n",
      "FAIL: expected [3, 4, 8, 10, 11, 14, 17, 20, 21, 24], returned [ 8 11 21 10  4 17 24  3 14 20]\n",
      "FAIL: expected [2, 6, 7, 8, 11, 13, 14, 15, 17, 20], returned [11  2 15  7 14 17 20 13  8  6]\n",
      "FAIL: expected [1, 2, 4, 7, 8, 9, 13, 14, 17, 18], returned [13  2  4 17  7 18  1 14  9  8]\n",
      "FAIL: expected [0, 3, 4, 5, 8, 11, 12, 14, 15, 17], returned [11 14 17 15  3 12  8  5  4  0]\n",
      "FAIL: expected [3, 5, 9, 11, 15, 18, 19, 20, 21, 25], returned [15  5 21 25 20 18 11  3  9 19]\n",
      "FAIL: expected [4, 7, 11, 14, 17, 20, 21, 24, 28, 32], returned [ 4 28 17 11 24  7 32 20 21 14]\n",
      "FAIL: expected [2, 6, 9, 10, 11, 14, 18, 19, 20, 21], returned [11  2 14 21 19 18 20 10  9  6]\n",
      "FAIL: expected [4, 8, 10, 11, 15, 19, 23, 27, 28, 32], returned [ 8 11 28 32  4 23 10 19 15 27]\n",
      "FAIL: expected [1, 4, 5, 9, 10, 14, 16, 19, 21, 25], returned [25  4 16  9  1 14 21 19 10  5]\n",
      "FAIL: expected [0, 2, 4, 6, 7, 11, 14, 18, 21, 25], returned [14  6 11 18 21  0  4 25  2  7]\n",
      "FAIL: expected [1, 4, 6, 9, 13, 14, 16, 17, 19, 22], returned [17  6  4 22  9 16 13  1 14 19]\n",
      "FAIL: expected [1, 5, 7, 9, 10, 12, 14, 15, 16, 20], returned [ 7  9  1 12 20  5 16 14 10 15]\n",
      "FAIL: expected [1, 5, 9, 12, 13, 16, 20, 22, 24, 26], returned [22 13 24 26  5 20  9 16 12  1]\n",
      "FAIL: expected [3, 6, 7, 9, 11, 14, 16, 20, 23, 25], returned [16 25 14  9  3  6 20 23  7 11]\n",
      "FAIL: expected [0, 1, 5, 9, 10, 14, 16, 20, 22, 23], returned [20  9  5 22 23 10 14  0 16  1]\n",
      "FAIL: expected [2, 5, 8, 10, 14, 16, 20, 21, 24, 28], returned [ 8 21 14 28 20  2 10  5 24 16]\n",
      "FAIL: expected [0, 2, 5, 6, 7, 10, 14, 15, 17, 18], returned [ 0 17 14  2 18  7 15 10  5  6]\n",
      "FAIL: expected [4, 7, 10, 13, 14, 18, 19, 23, 26, 30], returned [19 30 10 23  7 13 18 14 26  4]\n",
      "FAIL: expected [0, 4, 5, 9, 10, 13, 15, 16, 17, 21], returned [10 17  5 15  0  4 13 16 21  9]\n",
      "FAIL: expected [4, 7, 9, 11, 15, 17, 19, 21, 23, 25], returned [ 4 17 21 11 19  9 25  7 23 15]\n",
      "FAIL: expected [0, 4, 5, 6, 8, 11, 13, 16, 18, 22], returned [11 16  4  8  6 22  0 13  5 18]\n",
      "FAIL: expected [2, 3, 7, 10, 13, 15, 16, 17, 19, 22], returned [ 2 19 16  3 22 13 10  7 17 15]\n"
     ]
    },
    {
     "name": "stdout",
     "output_type": "stream",
     "text": [
      "FAIL: expected [4, 7, 8, 11, 14, 17, 21, 25, 29, 32], returned [25 29 21 11  4  7 14 17  8 32]\n",
      "FAIL: expected [0, 3, 4, 5, 9, 10, 13, 15, 16, 17], returned [ 0 15 13 16  4  3 10  5  9 17]\n",
      "FAIL: expected [1, 3, 5, 8, 9, 10, 12, 15, 16, 20], returned [ 8  5 12 10 16  9 20 15  3  1]\n",
      "FAIL: expected [0, 4, 7, 8, 12, 13, 17, 20, 22, 23], returned [23 13  0 22 12 17 20  8  4  7]\n",
      "FAIL: expected [3, 4, 5, 9, 13, 17, 20, 23, 24, 25], returned [24 13 23  3 17  9 20 25  4  5]\n",
      "FAIL: expected [0, 3, 5, 6, 7, 10, 12, 16, 17, 19], returned [ 6  7  5  0 17 12 10  3 19 16]\n",
      "FAIL: expected [2, 5, 7, 9, 10, 11, 14, 15, 18, 19], returned [ 2 15 18 19 11  5 14 10  9  7]\n",
      "FAIL: expected [4, 7, 11, 12, 13, 15, 19, 22, 26, 28], returned [15 22 11 26  7 13 12 19 28  4]\n",
      "FAIL: expected [4, 7, 9, 13, 17, 21, 24, 26, 30, 31], returned [ 4 24  7  9 30 17 21 13 31 26]\n",
      "FAIL: expected [0, 3, 5, 9, 10, 13, 17, 21, 23, 26], returned [17 26  9  0  5  3 10 13 21 23]\n",
      "FAIL: expected [2, 6, 10, 12, 13, 16, 18, 19, 21, 23], returned [18 23 19  6  2 10 16 21 12 13]\n",
      "FAIL: expected [3, 5, 6, 10, 11, 14, 18, 20, 21, 23], returned [23  5 10 21  6  3 11 18 14 20]\n",
      "FAIL: expected [2, 4, 6, 7, 8, 12, 16, 18, 19, 23], returned [18  8  7  6 16 12 23  4 19  2]\n",
      "FAIL: expected [3, 6, 9, 12, 13, 17, 18, 21, 25, 28], returned [13 21 12  9 25 17  3 18 28  6]\n",
      "FAIL: expected [4, 6, 7, 9, 11, 13, 15, 17, 19, 20], returned [13 20 17  4 15  9 19  7  6 11]\n",
      "FAIL: expected [0, 2, 6, 7, 10, 11, 13, 15, 17, 21], returned [ 7  0 11  6 13  2 10 17 15 21]\n",
      "done. FAILS: 100 out of 100 (100.0%)\n",
      "==================================================\n",
      "Testing algo: `Real quick sort`\n",
      "..................................................\n",
      "FAIL: expected [3, 7, 10, 11, 14, 18, 20, 22, 26, 27], returned [1, 2, 3, 4, 5, 6, 7, 8, 9, 10]\n",
      "FAIL: expected [0, 2, 5, 8, 11, 15, 17, 19, 20, 21], returned [1, 2, 3, 4, 5, 6, 7, 8, 9, 10]\n",
      "FAIL: expected [2, 3, 7, 9, 13, 17, 20, 21, 22, 23], returned [1, 2, 3, 4, 5, 6, 7, 8, 9, 10]\n",
      "FAIL: expected [1, 5, 9, 11, 15, 16, 17, 18, 21, 25], returned [1, 2, 3, 4, 5, 6, 7, 8, 9, 10]\n",
      "FAIL: expected [1, 5, 9, 12, 15, 16, 18, 21, 25, 27], returned [1, 2, 3, 4, 5, 6, 7, 8, 9, 10]\n",
      "FAIL: expected [4, 6, 8, 9, 12, 13, 17, 21, 23, 24], returned [1, 2, 3, 4, 5, 6, 7, 8, 9, 10]\n",
      "FAIL: expected [2, 3, 6, 8, 10, 13, 17, 19, 22, 24], returned [1, 2, 3, 4, 5, 6, 7, 8, 9, 10]\n",
      "FAIL: expected [3, 6, 8, 12, 16, 19, 22, 26, 30, 32], returned [1, 2, 3, 4, 5, 6, 7, 8, 9, 10]\n",
      "FAIL: expected [1, 2, 5, 6, 9, 11, 15, 17, 19, 21], returned [1, 2, 3, 4, 5, 6, 7, 8, 9, 10]\n",
      "FAIL: expected [1, 3, 6, 7, 11, 15, 16, 20, 24, 27], returned [1, 2, 3, 4, 5, 6, 7, 8, 9, 10]\n",
      "FAIL: expected [4, 8, 10, 14, 16, 19, 20, 22, 23, 25], returned [1, 2, 3, 4, 5, 6, 7, 8, 9, 10]\n",
      "FAIL: expected [3, 7, 9, 10, 14, 15, 17, 20, 24, 26], returned [1, 2, 3, 4, 5, 6, 7, 8, 9, 10]\n",
      "FAIL: expected [3, 4, 8, 10, 11, 14, 17, 20, 21, 24], returned [1, 2, 3, 4, 5, 6, 7, 8, 9, 10]\n",
      "FAIL: expected [2, 6, 7, 8, 11, 13, 14, 15, 17, 20], returned [1, 2, 3, 4, 5, 6, 7, 8, 9, 10]\n",
      "FAIL: expected [1, 2, 4, 7, 8, 9, 13, 14, 17, 18], returned [1, 2, 3, 4, 5, 6, 7, 8, 9, 10]\n",
      "FAIL: expected [0, 3, 4, 5, 8, 11, 12, 14, 15, 17], returned [1, 2, 3, 4, 5, 6, 7, 8, 9, 10]\n",
      "FAIL: expected [3, 5, 9, 11, 15, 18, 19, 20, 21, 25], returned [1, 2, 3, 4, 5, 6, 7, 8, 9, 10]\n",
      "FAIL: expected [4, 7, 11, 14, 17, 20, 21, 24, 28, 32], returned [1, 2, 3, 4, 5, 6, 7, 8, 9, 10]\n",
      "FAIL: expected [2, 6, 9, 10, 11, 14, 18, 19, 20, 21], returned [1, 2, 3, 4, 5, 6, 7, 8, 9, 10]\n",
      "FAIL: expected [4, 8, 10, 11, 15, 19, 23, 27, 28, 32], returned [1, 2, 3, 4, 5, 6, 7, 8, 9, 10]\n",
      "FAIL: expected [1, 4, 5, 9, 10, 14, 16, 19, 21, 25], returned [1, 2, 3, 4, 5, 6, 7, 8, 9, 10]\n",
      "FAIL: expected [0, 2, 4, 6, 7, 11, 14, 18, 21, 25], returned [1, 2, 3, 4, 5, 6, 7, 8, 9, 10]\n",
      "FAIL: expected [1, 4, 6, 9, 13, 14, 16, 17, 19, 22], returned [1, 2, 3, 4, 5, 6, 7, 8, 9, 10]\n",
      "FAIL: expected [1, 5, 7, 9, 10, 12, 14, 15, 16, 20], returned [1, 2, 3, 4, 5, 6, 7, 8, 9, 10]\n",
      "FAIL: expected [1, 5, 9, 12, 13, 16, 20, 22, 24, 26], returned [1, 2, 3, 4, 5, 6, 7, 8, 9, 10]\n",
      "FAIL: expected [3, 6, 7, 9, 11, 14, 16, 20, 23, 25], returned [1, 2, 3, 4, 5, 6, 7, 8, 9, 10]\n",
      "FAIL: expected [0, 1, 5, 9, 10, 14, 16, 20, 22, 23], returned [1, 2, 3, 4, 5, 6, 7, 8, 9, 10]\n",
      "FAIL: expected [2, 5, 8, 10, 14, 16, 20, 21, 24, 28], returned [1, 2, 3, 4, 5, 6, 7, 8, 9, 10]\n",
      "FAIL: expected [0, 2, 5, 6, 7, 10, 14, 15, 17, 18], returned [1, 2, 3, 4, 5, 6, 7, 8, 9, 10]\n",
      "FAIL: expected [4, 7, 10, 13, 14, 18, 19, 23, 26, 30], returned [1, 2, 3, 4, 5, 6, 7, 8, 9, 10]\n",
      "FAIL: expected [0, 4, 5, 9, 10, 13, 15, 16, 17, 21], returned [1, 2, 3, 4, 5, 6, 7, 8, 9, 10]\n",
      "FAIL: expected [4, 7, 9, 11, 15, 17, 19, 21, 23, 25], returned [1, 2, 3, 4, 5, 6, 7, 8, 9, 10]\n",
      "FAIL: expected [0, 4, 5, 6, 8, 11, 13, 16, 18, 22], returned [1, 2, 3, 4, 5, 6, 7, 8, 9, 10]\n",
      "FAIL: expected [2, 3, 7, 10, 13, 15, 16, 17, 19, 22], returned [1, 2, 3, 4, 5, 6, 7, 8, 9, 10]\n",
      "FAIL: expected [4, 7, 8, 11, 14, 17, 21, 25, 29, 32], returned [1, 2, 3, 4, 5, 6, 7, 8, 9, 10]\n",
      "FAIL: expected [0, 3, 4, 5, 9, 10, 13, 15, 16, 17], returned [1, 2, 3, 4, 5, 6, 7, 8, 9, 10]\n",
      "FAIL: expected [1, 3, 5, 8, 9, 10, 12, 15, 16, 20], returned [1, 2, 3, 4, 5, 6, 7, 8, 9, 10]\n",
      "FAIL: expected [0, 4, 7, 8, 12, 13, 17, 20, 22, 23], returned [1, 2, 3, 4, 5, 6, 7, 8, 9, 10]\n",
      "FAIL: expected [3, 4, 5, 9, 13, 17, 20, 23, 24, 25], returned [1, 2, 3, 4, 5, 6, 7, 8, 9, 10]\n",
      "FAIL: expected [0, 3, 5, 6, 7, 10, 12, 16, 17, 19], returned [1, 2, 3, 4, 5, 6, 7, 8, 9, 10]\n",
      "FAIL: expected [2, 5, 7, 9, 10, 11, 14, 15, 18, 19], returned [1, 2, 3, 4, 5, 6, 7, 8, 9, 10]\n",
      "FAIL: expected [4, 7, 11, 12, 13, 15, 19, 22, 26, 28], returned [1, 2, 3, 4, 5, 6, 7, 8, 9, 10]\n",
      "FAIL: expected [4, 7, 9, 13, 17, 21, 24, 26, 30, 31], returned [1, 2, 3, 4, 5, 6, 7, 8, 9, 10]\n",
      "FAIL: expected [0, 3, 5, 9, 10, 13, 17, 21, 23, 26], returned [1, 2, 3, 4, 5, 6, 7, 8, 9, 10]\n",
      "FAIL: expected [2, 6, 10, 12, 13, 16, 18, 19, 21, 23], returned [1, 2, 3, 4, 5, 6, 7, 8, 9, 10]\n",
      "FAIL: expected [3, 5, 6, 10, 11, 14, 18, 20, 21, 23], returned [1, 2, 3, 4, 5, 6, 7, 8, 9, 10]\n",
      "FAIL: expected [2, 4, 6, 7, 8, 12, 16, 18, 19, 23], returned [1, 2, 3, 4, 5, 6, 7, 8, 9, 10]\n",
      "FAIL: expected [3, 6, 9, 12, 13, 17, 18, 21, 25, 28], returned [1, 2, 3, 4, 5, 6, 7, 8, 9, 10]\n",
      "FAIL: expected [4, 6, 7, 9, 11, 13, 15, 17, 19, 20], returned [1, 2, 3, 4, 5, 6, 7, 8, 9, 10]\n",
      "FAIL: expected [0, 2, 6, 7, 10, 11, 13, 15, 17, 21], returned [1, 2, 3, 4, 5, 6, 7, 8, 9, 10]\n",
      "done. FAILS: 50 out of 100 (50.0%)\n"
     ]
    }
   ],
   "source": [
    "np.random.seed()\n",
    "instances_list = [get_consec_instance(10) for _ in range(50)] + \\\n",
    "    [get_rnd_instance(10) for _ in range(50)]\n",
    "\n",
    "for sorting_func, label in [\n",
    "        (selection_sort, \"Selection sort\"),\n",
    "        (bubble_sort, \"Bubble sort\"), \n",
    "        (panic_sort, \"Panic sort\"), \n",
    "        (real_quick_sort, \"Real quick sort\")]:\n",
    "\n",
    "    print(\"==================================================\")\n",
    "    test_algo(label, sorting_func, instances_list)"
   ]
  },
  {
   "cell_type": "markdown",
   "metadata": {
    "slideshow": {
     "slide_type": "slide"
    }
   },
   "source": [
    "(This \"real quick sort\" is not completely \"fake\", though. It is okay assuming you know something about your `input_array`. If interested, see [Bucket sort](https://en.wikipedia.org/wiki/Bucket_sort), [Radix sort](https://en.wikipedia.org/wiki/Radix_sort) and such)"
   ]
  },
  {
   "cell_type": "markdown",
   "metadata": {
    "slideshow": {
     "slide_type": "slide"
    }
   },
   "source": [
    "**Bottom line:** \n",
    "- correctness can be tested with a simple testing framework. Just generate a bunch of random (or not random, but carefully engineered!) instances, and see if it fails.\n",
    "- by the way, there are convenient \"testing frameworks\" in different languages, e.g., see [pytest](https://www.pytest.org) for Python.\n",
    "\n",
    "- **HOWEVER:** it does not guarantee anything, strictly speaking. Correctness is a property of an algorithm that needs to be proved."
   ]
  },
  {
   "cell_type": "markdown",
   "metadata": {
    "slideshow": {
     "slide_type": "slide"
    }
   },
   "source": [
    "For **bubble sort**, for instance:\n",
    "- first, make sure that our `is_sorted` criterion is valid,\n",
    "- then, observe that `bubble_sort` stops only after the array is sorted (otherwise `is_done` would be `False`).\n",
    "- finally, note that at each pass the algorithm \"fixes\" at least one \"wrong\" pair of elements, and the number of such pairs is finite.\n",
    "\n",
    "Therefore, the algorithm finishes in finite time, and the result will be the sorted array."
   ]
  },
  {
   "cell_type": "markdown",
   "metadata": {
    "slideshow": {
     "slide_type": "fragment"
    }
   },
   "source": [
    "- **HOWEVER-2:**\n",
    "> ``...Beware of bugs in the above code; I have only proved it correct, not tried it.''\n",
    ">\n",
    "> *Donald E. Knuth*"
   ]
  },
  {
   "cell_type": "markdown",
   "metadata": {
    "slideshow": {
     "slide_type": "slide"
    }
   },
   "source": [
    "Note that we have just designed several \"types\" of algorithms to sort an array of numbers:\n",
    "- **Selection sort** -- a \"greedy\" algorithm (grabs the smallest element every time).\n",
    "- **Brute-force enumeration** -- just all possible orderings.\n",
    "- **Bubble sort** -- a natural first implementation based on a correctness criterion. We started with what we had, and incrementally \"fixed\" the solution, until it was good.\n",
    "- ... and some other variants (including a really fast version that leveraged some prior knowledge about a problem -- e.g., that the numbers are consecutive)."
   ]
  },
  {
   "cell_type": "markdown",
   "metadata": {
    "slideshow": {
     "slide_type": "subslide"
    }
   },
   "source": [
    "- there are other \"keywords\" relevant to the algo design:\n",
    "  + we will consider **\"Divide and Conquer\"** momentarily,\n",
    "  + in this course we will also consider something called **\"Dynamic Programming\"**, which is about smart problem decomposition.\n",
    "  + sometimes, e.g., finding \"best\" solution (in some sense) you can start the \"enumeration\" route, but find smart ways to disregard whole groups of solutions. (See **branch and bound** and the like) \n",
    "  + sometimes, you can design a surprisingly efficient algorithm that... well, just **flips a coin** from time to time :) (**randomized** algorithms)\n",
    "  \n",
    "The list is not exhustive, of course."
   ]
  },
  {
   "cell_type": "markdown",
   "metadata": {
    "slideshow": {
     "slide_type": "subslide"
    }
   },
   "source": [
    "# Take-aways so far\n",
    "We considered several sorting algorithms (bubble sort and selection sort).\n",
    "- Algorithms are (theoretical) \"recipes\", which can be *implemented* in code (e.g. in Python, C++, or Java).\n",
    "- They can (and should) be analyzed in a systematic, scientific way\n",
    "- ... and are characterized by runtime, space requirements, and correctness.\n",
    "- (Of course, there are more characteristics.)\n",
    "- Correctness needs to be proved, but making numerical tests is handy.\n",
    "\n",
    "**thinking with ☕ :** how in the world our `panic_sort` worked for two instances?..\n",
    "\n",
    "**Any questions at this point?**"
   ]
  },
  {
   "cell_type": "markdown",
   "metadata": {
    "slideshow": {
     "slide_type": "slide"
    }
   },
   "source": [
    "# Topic 2: Runtime <a class=\"tocSkip\">\n",
    "<br><br><br>\n",
    "\n",
    "<div style=\"text-align: right\"> <em>Alexey Bochkarev, 2021, a [at] bochkarev (dot) io </em></div>"
   ]
  },
  {
   "cell_type": "markdown",
   "metadata": {
    "slideshow": {
     "slide_type": "slide"
    }
   },
   "source": [
    "# Runtime\n",
    "\n",
    "In order to discuss this, let us first introduce another algorithm, **merge sort**. It will be *faster* -- and this will allow us to discuss what a \"faster\" means."
   ]
  },
  {
   "cell_type": "code",
   "execution_count": 23,
   "metadata": {
    "slideshow": {
     "slide_type": "fragment"
    }
   },
   "outputs": [],
   "source": [
    "# We will need more libraries for this part\n",
    "from time import time\n",
    "import matplotlib.pyplot as plt\n",
    "import seaborn as sns\n",
    "%matplotlib inline\n",
    "import pandas as pd\n",
    "from math import log, log2"
   ]
  },
  {
   "cell_type": "markdown",
   "metadata": {
    "slideshow": {
     "slide_type": "slide"
    }
   },
   "source": [
    "- Imagine an array, split it into two halves.\n",
    "- What if we had a *magic* function that would sort each half?\n",
    "\n",
    "![halfsorted](img/merge_sort.png)\n",
    "\n",
    "Now, we could easily *merge* these two into a sorted array: just use two pointers `i left` and `i right`. Scan left to right, picking the smallest one and increasing pointers as necessary."
   ]
  },
  {
   "cell_type": "markdown",
   "metadata": {
    "slideshow": {
     "slide_type": "subslide"
    }
   },
   "source": [
    "Let us just fix this in the code, while we are at it:"
   ]
  },
  {
   "cell_type": "code",
   "execution_count": 24,
   "metadata": {
    "slideshow": {
     "slide_type": "fragment"
    }
   },
   "outputs": [],
   "source": [
    "def merge(left, right):\n",
    "    \"\"\"Merges sorted arrays ``left`` and ``right`` into a single sorted array\n",
    "\n",
    "    Notes:\n",
    "        - the only slightly tricky part here is handling edge cases\n",
    "        - this is not the best implementation in the world.\n",
    "          E.g., fixed-length ``result`` would be more logical.\n",
    "    \"\"\"\n",
    "    result = []\n",
    "    i_left = 0; i_right = 0\n",
    "    while len(result) < len(left) + len(right):\n",
    "        if i_left == len(left):  # no more elements in the \"left\" list\n",
    "            result.append(right[i_right])\n",
    "            i_right += 1\n",
    "        elif i_right == len(right): # no more elements in the \"right\" list\n",
    "            result.append(left[i_left])\n",
    "            i_left += 1\n",
    "        else:  # there are elements in both lists\n",
    "            if right[i_right] < left[i_left]:\n",
    "                result.append(right[i_right])\n",
    "                i_right += 1\n",
    "            else:\n",
    "                result.append(left[i_left])\n",
    "                i_left += 1\n",
    "\n",
    "    return result"
   ]
  },
  {
   "cell_type": "code",
   "execution_count": 25,
   "metadata": {
    "slideshow": {
     "slide_type": "subslide"
    }
   },
   "outputs": [
    {
     "data": {
      "text/plain": [
       "[1, 2, 3, 4, 5, 6, 7]"
      ]
     },
     "execution_count": 25,
     "metadata": {},
     "output_type": "execute_result"
    }
   ],
   "source": [
    "merge([1,3,5,7],[2,4,6])"
   ]
  },
  {
   "cell_type": "markdown",
   "metadata": {
    "slideshow": {
     "slide_type": "subslide"
    }
   },
   "source": [
    "OK, you might say, but we don't have any \"magic function\", do we? "
   ]
  },
  {
   "cell_type": "markdown",
   "metadata": {
    "slideshow": {
     "slide_type": "subslide"
    }
   },
   "source": [
    "Let's just cheat now, and pretend we do:"
   ]
  },
  {
   "cell_type": "code",
   "execution_count": 26,
   "metadata": {
    "slideshow": {
     "slide_type": "fragment"
    }
   },
   "outputs": [],
   "source": [
    "def merge_sort(input_array):\n",
    "    \"\"\"Sorts `input_array` with merge sort.\n",
    "\n",
    "    (See, e.g., https://www.geeksforgeeks.org/merge-sort/ for quick description,\n",
    "    or Wiki)\n",
    "    \"\"\"\n",
    "    result = []\n",
    "\n",
    "    N = len(input_array)\n",
    "    if N == 1:\n",
    "        return input_array # nothing to sort\n",
    "\n",
    "    m = N // 2  # find the middle\n",
    "    left = input_array[:m]\n",
    "    right = input_array[m:]\n",
    "\n",
    "    # here is the magic\n",
    "    left = merge_sort(left)\n",
    "    right = merge_sort(right)\n",
    "\n",
    "    return merge(left, right)"
   ]
  },
  {
   "cell_type": "code",
   "execution_count": 27,
   "metadata": {
    "slideshow": {
     "slide_type": "fragment"
    }
   },
   "outputs": [
    {
     "data": {
      "text/plain": [
       "[1, 2, 3, 4, 5, 6, 7]"
      ]
     },
     "execution_count": 27,
     "metadata": {},
     "output_type": "execute_result"
    }
   ],
   "source": [
    "# In case you were hesitating:\n",
    "merge_sort([4,6,1,3,2,5,7])"
   ]
  },
  {
   "cell_type": "markdown",
   "metadata": {
    "slideshow": {
     "slide_type": "subslide"
    }
   },
   "source": [
    "... oh, what has just happened?.. 👀"
   ]
  },
  {
   "cell_type": "markdown",
   "metadata": {
    "slideshow": {
     "slide_type": "slide"
    }
   },
   "source": [
    "- **Merge sort** -- a \"divide and conquer\" algorithm (divides a problem into smaller pieces and then reconstructs the solution)."
   ]
  },
  {
   "cell_type": "markdown",
   "metadata": {
    "slideshow": {
     "slide_type": "slide"
    }
   },
   "source": [
    "### So, Runtime\n",
    "\n",
    "Everyone is data-driven these days, right? -- so let's just make some data (again) and see how these different approaches to sorting perform."
   ]
  },
  {
   "cell_type": "code",
   "execution_count": 28,
   "metadata": {
    "slideshow": {
     "slide_type": "slide"
    }
   },
   "outputs": [],
   "source": [
    "def get_runtimes(sort_function, gen_function=get_rnd_instance, N=100, no_inst = 100):\n",
    "    \"\"\"Makes instances and tests ``sort_function``.\n",
    "    \n",
    "    Args:\n",
    "        sort_function:  sorting function to call,\n",
    "        gen_function:   instance generation function to call,\n",
    "        N (int):        instance length (# of numbers),\n",
    "        no_inst(int):   number of instances to generate.\n",
    "        \n",
    "    Returns:\n",
    "        List of runtimes in seconds (per instance).\n",
    "    \"\"\"\n",
    "    runtimes = []\n",
    "    for i in range(no_inst):\n",
    "        _, arr_input = gen_function(N)\n",
    "        t0 = time()\n",
    "        out = sort_function(arr_input)\n",
    "        t1 = time()\n",
    "        runtimes.append(t1-t0) # runtime in seconds\n",
    "    return runtimes"
   ]
  },
  {
   "cell_type": "code",
   "execution_count": 29,
   "metadata": {
    "slideshow": {
     "slide_type": "slide"
    }
   },
   "outputs": [],
   "source": [
    "plt.rcParams.update({'font.size': 28})\n",
    "\n",
    "def make_runtimes_plot(gen_function = get_rnd_instance, N = 10, no_inst=100):\n",
    "    \"\"\"creates a simple runtimes plot.\"\"\"\n",
    "    runtimes = pd.DataFrame(data = {\n",
    "        'Bubble_sort' : get_runtimes(bubble_sort, gen_function, N, no_inst),\n",
    "        'Merge_sort' : get_runtimes(merge_sort, gen_function)\n",
    "    }, columns = ['Bubble_sort', 'Merge_sort'])\n",
    "\n",
    "    ax = sns.stripplot(y = runtimes[\"Bubble_sort\"]*1000., color='red', jitter=0.4)\n",
    "    ax = sns.stripplot(y = runtimes['Merge_sort']*1000., color='blue', ax = ax, jitter = 0.4)\n",
    "    ax.set(xlabel='red = bubble sort, blue = merge sort, N={}'.format(N), ylabel='Runtimes, msec')\n",
    "    return ax"
   ]
  },
  {
   "cell_type": "code",
   "execution_count": 30,
   "metadata": {
    "scrolled": true,
    "slideshow": {
     "slide_type": "slide"
    }
   },
   "outputs": [
    {
     "data": {
      "image/png": "[encoded data removed]",
      "text/plain": [
       "<Figure size 1152x720 with 1 Axes>"
      ]
     },
     "metadata": {
      "needs_background": "light"
     },
     "output_type": "display_data"
    }
   ],
   "source": [
    "plt.figure(figsize = (16,10)); _ = make_runtimes_plot()"
   ]
  },
  {
   "cell_type": "markdown",
   "metadata": {
    "slideshow": {
     "slide_type": "fragment"
    }
   },
   "source": [
    "So, *bubble sort is faster*. Right? Or do you see any problems with this approach?"
   ]
  },
  {
   "cell_type": "markdown",
   "metadata": {
    "slideshow": {
     "slide_type": "slide"
    }
   },
   "source": [
    "### Problem 1: scaling\n",
    "First, let us consider what happens as we change the length of the input. It is what usually matters -- how does our algorithm *scale* (no one is really interested in sorting arrays with `N=5`...)"
   ]
  },
  {
   "cell_type": "code",
   "execution_count": 31,
   "metadata": {
    "slideshow": {
     "slide_type": "subslide"
    }
   },
   "outputs": [
    {
     "data": {
      "image/png": "[encoded data removed]",
      "text/plain": [
       "<Figure size 3600x720 with 4 Axes>"
      ]
     },
     "metadata": {
      "needs_background": "light"
     },
     "output_type": "display_data"
    }
   ],
   "source": [
    "plt.figure(figsize = (50,10))\n",
    "plt.subplot(1,4,1); make_runtimes_plot(N=10)\n",
    "plt.subplot(1,4,2); make_runtimes_plot(N=25)\n",
    "plt.subplot(1,4,3); make_runtimes_plot(N=50)\n",
    "plt.subplot(1,4,4); _ = make_runtimes_plot(N=100)"
   ]
  },
  {
   "cell_type": "markdown",
   "metadata": {
    "slideshow": {
     "slide_type": "subslide"
    }
   },
   "source": [
    "So okay, to understand what's going on here, we'd need to run the experiment for several different `N`-s. Say, let us plot mean runtimes instead..."
   ]
  },
  {
   "cell_type": "code",
   "execution_count": 32,
   "metadata": {
    "slideshow": {
     "slide_type": "fragment"
    }
   },
   "outputs": [],
   "source": [
    "def make_mean_runtimes(sort_function, gen_function = get_rnd_instance, N1 = 10, N2 = 100, no_inst=50):\n",
    "    \"\"\"Creates a list of **mean** runtimes for different values of N.\"\"\"\n",
    "    runtimes = []\n",
    "    for i in range(N2-N1):\n",
    "        runtimes.append(np.mean(\n",
    "            get_runtimes(sort_function, gen_function, \n",
    "                         N = N1 + i, no_inst = no_inst))*1000)\n",
    "    \n",
    "    return runtimes\n",
    "\n",
    "N1 = 5; N2 = 100\n",
    "\n",
    "rt_bsort = make_mean_runtimes(bubble_sort, N1=N1, N2 = N2)\n",
    "rt_msort = make_mean_runtimes(merge_sort, N1=N1, N2 = N2)"
   ]
  },
  {
   "cell_type": "code",
   "execution_count": 33,
   "metadata": {
    "slideshow": {
     "slide_type": "subslide"
    }
   },
   "outputs": [
    {
     "data": {
      "text/plain": [
       "[<matplotlib.lines.Line2D at 0x7f4fdaba2970>]"
      ]
     },
     "execution_count": 33,
     "metadata": {},
     "output_type": "execute_result"
    },
    {
     "data": {
      "image/png": "[encoded data removed]",
      "text/plain": [
       "<Figure size 1440x720 with 2 Axes>"
      ]
     },
     "metadata": {
      "needs_background": "light"
     },
     "output_type": "display_data"
    }
   ],
   "source": [
    "plt.rcParams.update({'font.size': 28})\n",
    "plt.figure(figsize = (20,10))\n",
    "plt.subplot(1,2,1)\n",
    "plt.plot([N1 + i for i in range(N2-N1)], rt_bsort, 'r-')\n",
    "plt.plot([N1 + i for i in range(N2-N1)], rt_msort, 'b-')\n",
    "plt.gca().set(xlabel='Input array size(N). red = bubble sort, blue = merge sort', ylabel='mean runtimes, msec')\n",
    "plt.subplot(1,2,2)\n",
    "plt.plot([N1 + i for i in range(N2-N1)], [x*x/5000 for x in range(N1, N2)], 'r-')\n",
    "plt.plot([N1 + i for i in range(N2-N1)], [x*log(x)/800 for x in range(N1,N2)], 'b-')"
   ]
  },
  {
   "cell_type": "markdown",
   "metadata": {
    "slideshow": {
     "slide_type": "subslide"
    }
   },
   "source": [
    "### So, what to do?\n",
    "Quite often you can see this $O(\\cdot)$ notation. This is an *upper bound* on the respective runtime. What is meant, usually, is this is how the runtime behaves as the *size* of the problem increases infinitely. For our case, the problem size is, naturally, $N$ -- how many numbers are there in the array.\n",
    "\n",
    "People usually do not care about multiplicative constants (since $Ax^3$ will grow more than $Bx^2$, eventually, for any $A,B>0$ and $x>0$)."
   ]
  },
  {
   "cell_type": "markdown",
   "metadata": {
    "slideshow": {
     "slide_type": "subslide"
    }
   },
   "source": [
    "Hey, asymptotics is a big deal, actually:"
   ]
  },
  {
   "cell_type": "code",
   "execution_count": null,
   "metadata": {
    "slideshow": {
     "slide_type": "fragment"
    }
   },
   "outputs": [
    {
     "data": {
      "text/plain": [
       "<matplotlib.legend.Legend at 0x7f4fdab27d90>"
      ]
     },
     "execution_count": 34,
     "metadata": {},
     "output_type": "execute_result"
    }
   ],
   "source": [
    "\n",
    "ns = [n for n in range(1,21)]\n",
    "\n",
    "plt.figure(figsize = (16,10))\n",
    "plt.plot(ns, label=\"linear\")\n",
    "plt.plot([n * log(n) for n in ns], label=\"N log N\")\n",
    "plt.plot([n**2 for n in ns], label=\"$N^2$\")\n",
    "plt.plot([n**3 for n in ns], label=\"$N^3$\")\n",
    "plt.plot([2**n for n in ns], label=\"$2^N$\")\n",
    "plt.legend()"
   ]
  },
  {
   "cell_type": "markdown",
   "metadata": {
    "slideshow": {
     "slide_type": "subslide"
    }
   },
   "source": [
    "More **formally**: runtime $T(n) \\in O(g(n))$ if and only if there exists some $n_0 > 0$ and $C > 0$ such that for all $n>n_0:~T(n)\\leq Cg(n)$."
   ]
  },
  {
   "cell_type": "markdown",
   "metadata": {
    "slideshow": {
     "slide_type": "fragment"
    }
   },
   "source": [
    "This allows to disregard details and just count operations that do not depend on the input size.\n",
    "\n",
    "For example, take **bubble sort**:"
   ]
  },
  {
   "cell_type": "markdown",
   "metadata": {
    "slideshow": {
     "slide_type": "fragment"
    }
   },
   "source": [
    "- In the worst case, we will have to flip every one of the $N$ numbers with every other (if the input array is sorted, but in the wrong way -- e.g., in descending instead of ascending order). \n",
    "- Then, we will have to perform $N(N-1)$ `swap` operations -- at most, regardless of anything. \n",
    "- This is $N^2-N$, which still grows as fast as $N^2$, if $N$ increases infinitely. \n",
    "    \n",
    "So, we'd write it as \n",
    "> bubble sort worst-case runtime is in $O(N^2)$. \n",
    "\n",
    "(There is no way it could run slower, right?)"
   ]
  },
  {
   "cell_type": "markdown",
   "metadata": {
    "slideshow": {
     "slide_type": "subslide"
    }
   },
   "source": [
    "**Now, for the merge sort**:"
   ]
  },
  {
   "cell_type": "markdown",
   "metadata": {
    "slideshow": {
     "slide_type": "subslide"
    }
   },
   "source": [
    "- Every `merge` operation takes $O(N)$ time, since it performs at most $N$ \"ticks\" while merging. We'd just need to count how many times this function could be invoked. \n",
    "- Well, this is easy: this is the number of times we can divide $N$ into two, since each time we split it in two halves. \n",
    "- If you think about it, this is the largest number $k$ such that $2^k \\leq N$. We can use a slight overestimate, a number $k$ such that $2^k=N$, which mathematicians call $\\log_2 N$. \n",
    "- Therefore, we can say that we invoke the `merge` function (which takes $O(N)$ time), $\\log_2 N$ times.\n",
    "    \n",
    "So, the asymptotic worst-case runtime of the merge sort is $O(N \\log N)$ (computer science people sometimes omit this subscript of $2$, if most of the logarithms are base-two. And also it doesn't matter in $O(\\cdot)$ notation if you recall properties of the logarithm...)."
   ]
  },
  {
   "cell_type": "markdown",
   "metadata": {
    "slideshow": {
     "slide_type": "subslide"
    }
   },
   "source": [
    "**So:**\n",
    "- $O(\\cdot)$ is asymptotic runtime, when the problem size skyrockets. Up to a (multiplicative) const.\n",
    "- bubble sort \"runs is\" $O(N^2)$, merge sort --- in $O(N\\textrm{log}N)$.\n",
    "- we have calculated this by counting operations that do not depend on the problem size."
   ]
  },
  {
   "cell_type": "markdown",
   "metadata": {
    "slideshow": {
     "slide_type": "fragment"
    }
   },
   "source": [
    "**Any questions so far?**"
   ]
  },
  {
   "cell_type": "markdown",
   "metadata": {
    "slideshow": {
     "slide_type": "slide"
    }
   },
   "source": [
    "### Problem 2: special inputs\n",
    "Then, let us feed in some pretty special inputs:"
   ]
  },
  {
   "cell_type": "code",
   "execution_count": null,
   "metadata": {
    "slideshow": {
     "slide_type": "fragment"
    }
   },
   "outputs": [],
   "source": [
    "def gen_magic_sequence(N):\n",
    "    \"\"\"Generates a \"special\" input sequence (with only two elements swapped)\"\"\"\n",
    "    \n",
    "    input_sorted = [i+1 for i in range(N)] # generate a sequence of numbers\n",
    "    input_unsorted = [i+1 for i in range(N)]\n",
    "    a = input_unsorted[N // 2]\n",
    "    b = input_unsorted[N // 2 + 1]\n",
    "    input_unsorted[N // 2] = b; input_unsorted[N // 2 + 1] = a # how 'bout this?!\n",
    "    \n",
    "    return input_sorted, input_unsorted"
   ]
  },
  {
   "cell_type": "code",
   "execution_count": null,
   "metadata": {
    "slideshow": {
     "slide_type": "subslide"
    }
   },
   "outputs": [],
   "source": [
    "plt.figure(figsize = (30,10))\n",
    "plt.subplot(1,2,1); make_runtimes_plot(N=50)\n",
    "plt.subplot(1,2,2); _ = make_runtimes_plot(gen_magic_sequence, N=50)"
   ]
  },
  {
   "cell_type": "markdown",
   "metadata": {
    "slideshow": {
     "slide_type": "fragment"
    }
   },
   "source": [
    "Huh?.. 😕"
   ]
  },
  {
   "cell_type": "markdown",
   "metadata": {
    "slideshow": {
     "slide_type": "subslide"
    }
   },
   "source": [
    "Ah, okay, maybe this is scaling again?"
   ]
  },
  {
   "cell_type": "code",
   "execution_count": null,
   "metadata": {
    "slideshow": {
     "slide_type": "fragment"
    }
   },
   "outputs": [],
   "source": [
    "rt_bsort_m = make_mean_runtimes(bubble_sort, gen_function=gen_magic_sequence, N1=N1, N2 = N2)\n",
    "rt_msort_m = make_mean_runtimes(merge_sort,  gen_function=gen_magic_sequence, N1=N1, N2 = N2)"
   ]
  },
  {
   "cell_type": "code",
   "execution_count": null,
   "metadata": {
    "slideshow": {
     "slide_type": "subslide"
    }
   },
   "outputs": [],
   "source": [
    "plt.figure(figsize = (20,10)); plt.subplot(1,2,1)\n",
    "plt.plot([N1 + i for i in range(N2-N1)], rt_bsort_m, 'r-')\n",
    "plt.plot([N1 + i for i in range(N2-N1)], rt_msort_m, 'b-')\n",
    "plt.gca().set(xlabel='Input array size(N). red = bubble sort, blue = merge sort', ylabel='mean runtimes, msec')\n",
    "plt.subplot(1,2,2); plt.plot([N1 + i for i in range(N2-N1)], [x*x/5000 for x in range(N1, N2)], 'r-')\n",
    "plt.plot([N1 + i for i in range(N2-N1)], [x*log(x)/800 for x in range(N1,N2)], 'b-')"
   ]
  },
  {
   "cell_type": "markdown",
   "metadata": {
    "slideshow": {
     "slide_type": "fragment"
    }
   },
   "source": [
    "What happened?! 🤯🤯🤯 Why is this so?.."
   ]
  },
  {
   "cell_type": "markdown",
   "metadata": {
    "slideshow": {
     "slide_type": "subslide"
    }
   },
   "source": [
    "**And the answer is:** well, it depends on input! (surprise!). So, intuitively, we'd want to differentiate between the *worst-case*, *best-case*, and *average* performance (whatever it all would mean, precisely).\n",
    "\n",
    "Actually, what we see, say, on Wiki [page](https://en.wikipedia.org/wiki/Merge_sort) describing an alorithm, is exactly this.\n",
    "\n",
    "Therefore, people quite often talk about the *asymptotic worst-case runtime*. Now you have seen what (almost) each word means :)\n"
   ]
  },
  {
   "cell_type": "markdown",
   "metadata": {
    "slideshow": {
     "slide_type": "slide"
    }
   },
   "source": [
    "## A word on other properties\n",
    "### Space requirements\n",
    "You can use this $O(\\cdot)$ notation to analyze other requirements as well: for example, how much space does your (or someone else's) algorithm requires."
   ]
  },
  {
   "cell_type": "markdown",
   "metadata": {
    "slideshow": {
     "slide_type": "fragment"
    }
   },
   "source": [
    "For example, note that bubble sort does not require additional space (it can run over the same input array, *in-place*), while our implementation of merge sort required $O(N)$ units of additional memory."
   ]
  },
  {
   "cell_type": "markdown",
   "metadata": {
    "slideshow": {
     "slide_type": "fragment"
    }
   },
   "source": [
    "### Can we run it in parallel?\n",
    "Also, it might be interesting how difficult it is to build a *parallel* version of an algorithm? E.g., compare selection sort and merge sort."
   ]
  },
  {
   "cell_type": "markdown",
   "metadata": {
    "slideshow": {
     "slide_type": "slide"
    }
   },
   "source": [
    "### A final remark on this\n",
    "In practice, please do sorting like this, unless there are good reasons to do otherwise:"
   ]
  },
  {
   "cell_type": "code",
   "execution_count": null,
   "metadata": {
    "slideshow": {
     "slide_type": "fragment"
    }
   },
   "outputs": [],
   "source": [
    "np.sort([1,5,2,7,3,4,1])"
   ]
  },
  {
   "cell_type": "code",
   "execution_count": null,
   "metadata": {
    "slideshow": {
     "slide_type": "fragment"
    }
   },
   "outputs": [],
   "source": [
    "# or, if you want to look fancy:\n",
    "np.sort([1,5,2,7,3,4,1], kind='mergesort')"
   ]
  },
  {
   "cell_type": "markdown",
   "metadata": {
    "slideshow": {
     "slide_type": "slide"
    }
   },
   "source": [
    "No need to reinvent the bicycle. There are many algorithms already implemented for you in several great libraries. For example, lots of useful things are in [scikit-learn](https://scikit-learn.org/stable/) and (as you can tell even from this notebook) [numpy](https://numpy.org/), and so on. So if you are thinking to implement something -- a good first step is\n",
    "\n",
    "**❗❗ to look around, maybe something is already implemented ❗❗**\n",
    "\n",
    "(and chances are, with high-quality code, with support for special hardware, if needed, etc.)."
   ]
  },
  {
   "cell_type": "markdown",
   "metadata": {
    "slideshow": {
     "slide_type": "slide"
    }
   },
   "source": [
    "# Finally: NP-hard problems\n",
    "\n",
    "It seems that not all problems are solvable in polynomial time (in general case). There is a class of problems such that:\n",
    "- a (given) solution can be *verified* in polynomial time,\n",
    "- but no known algorithm exists to solve it (i.e., find a solution in first place) in polynomial time. (actually, *solving it in polynomial time would allow to solve some more really hard problems in polynomial time*)\n",
    "\n",
    "Is is a little more complicated than that, actually -- you can check out the concepts of [NP-hardness](https://en.wikipedia.org/wiki/NP-hardness), and [P vs NP](https://en.wikipedia.org/wiki/P_versus_NP_problem) problem, if you are interested. But if so, picking up a Computer Science textbook (or a course) might be a good idea."
   ]
  },
  {
   "cell_type": "markdown",
   "metadata": {
    "slideshow": {
     "slide_type": "subslide"
    }
   },
   "source": [
    "In practice, it means that there is a big class of (relevant) problems, that do not allow for efficient exact solution. In this case people sometimes try to devise *approximate* algorithms (and sometimes, pretty successfully). OR even heuristics (that just gives \"kinda okay\" solutions, without any guarantees... pretty good in practice sometimes, though).\n",
    "\n",
    "Selecting optimal phylogenetic trees / multiple sequence alignment (see, e.g., [wiki](https://en.wikipedia.org/wiki/Sequence_alignment)), [k-means](https://en.wikipedia.org/wiki/K-means_clustering) clustering, and many others are \"computationally difficult\". Also, see the [List](https://en.wikipedia.org/wiki/List_of_NP-complete_problems) of NP-complete problems for some more examples."
   ]
  },
  {
   "cell_type": "markdown",
   "metadata": {
    "slideshow": {
     "slide_type": "slide"
    }
   },
   "source": [
    "# Take-aways from Topics 1 and 2\n",
    "- (Some) algorithms are cool\n",
    "- They can (and should) be analyzed in a systematic, scientific way,\n",
    "- ...and are characterized by runtime, space requirements, and correctness, among other things.\n",
    "- Asymptotic runtime: $O(\\cdot)$ (and Co.) notations describe how does the runtime grow with the problem size. \n",
    "- Yes, usually that's a big deal.\n",
    "- Sometimes we discuss best-case, worst-case, and average performance.\n",
    "- Cool algorithms are numerous; existing libraries are your friends (`numpy`, `sklearn`, etc. -- if we talk Python)\n",
    "- There are theoretical limits, though. We cannot do sorting (unless you know something about the array) in less than $O(N\\log N)$ worst-case. It *seems* we cannot really solve many problems in polynomial time (and this is actually a serios research direction).\n",
    "\n",
    "**Any questions?**"
   ]
  }
 ],
 "metadata": {
  "celltoolbar": "Slideshow",
  "kernelspec": {
   "display_name": "Python 3",
   "language": "python",
   "name": "python3"
  },
  "language_info": {
   "codemirror_mode": {
    "name": "ipython",
    "version": 3
   },
   "file_extension": ".py",
   "mimetype": "text/x-python",
   "name": "python",
   "nbconvert_exporter": "python",
   "pygments_lexer": "ipython3",
   "version": "3.8.5"
  },
  "latex_envs": {
   "LaTeX_envs_menu_present": true,
   "autoclose": false,
   "autocomplete": true,
   "bibliofile": "biblio.bib",
   "cite_by": "apalike",
   "current_citInitial": 1,
   "eqLabelWithNumbers": true,
   "eqNumInitial": 1,
   "hotkeys": {
    "equation": "Ctrl-E",
    "itemize": "Ctrl-I"
   },
   "labels_anchors": false,
   "latex_user_defs": false,
   "report_style_numbering": false,
   "user_envs_cfg": false
  },
  "name": "1_Algorithms.ipynb",
  "rise": {
   "theme": "moon"
  },
  "toc": {
   "base_numbering": 1,
   "nav_menu": {
    "height": "110px",
    "width": "437px"
   },
   "number_sections": true,
   "sideBar": true,
   "skip_h1_title": false,
   "title_cell": "Table of Contents",
   "title_sidebar": "Contents",
   "toc_cell": false,
   "toc_position": null,
   "toc_section_display": true,
   "toc_window_display": false
  }
 },
 "nbformat": 4,
 "nbformat_minor": 4
}
