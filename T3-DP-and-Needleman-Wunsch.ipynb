{
 "cells": [
  {
   "cell_type": "markdown",
   "id": "58b573b7",
   "metadata": {
    "slideshow": {
     "slide_type": "slide"
    }
   },
   "source": [
    "*SMTB-2021: A Glimpse into Algorithms | Alexey Bochkarev* ([🖂](mailto:a@bochkarev.io), [🌐](https://www.bochkarev.io/contact))\n",
    "\n",
    "# Where we are? <a class=\"tocSkip\">\n",
    "- Welcome!\n",
    "- Course [outline](./README.org) and logistics/tech.\n",
    "  + ✅ **Topic 1:** we will try *designing* algorithms, taking sorting problem as an example (and using several approaches you might have heared about).\n",
    "  + ✅ **Topic 2:** we will discuss more systematically how to compare algorithms, focusing on the concept of runtime.\n",
    "  + 👉 **Topic 3:** DP + example \"bio-\" algorithm (global alignment),\n",
    "  + **Topic 4:** let's talk data structures."
   ]
  },
  {
   "cell_type": "markdown",
   "id": "3c4ee97f",
   "metadata": {
    "slideshow": {
     "slide_type": "slide"
    }
   },
   "source": [
    "**So,** we know how to characterize algorithms:\n",
    "- correctness,\n",
    "- worst-/average-/best-case runtimes,\n",
    "- big O notation (and friends),\n",
    "- memory requirements.\n",
    "\n",
    "(and know there are \"hard\" problems, and there are limits to what we can achieve.)\n",
    "\n",
    "Let us just consider a couple of specific, more complex examples.\n",
    "\n",
    "## Today, Topic 3:\n",
    "- **Dynamic programming** technique for designing algorithms\n",
    "- **Needleman-Wunsch** algorithm as an example"
   ]
  },
  {
   "cell_type": "code",
   "execution_count": 1,
   "id": "bf72a4e7",
   "metadata": {
    "slideshow": {
     "slide_type": "fragment"
    }
   },
   "outputs": [],
   "source": [
    "# we'll need this today:\n",
    "from time import time\n",
    "from math import log\n",
    "import matplotlib.pyplot as plt\n",
    "import seaborn as sns\n",
    "import pandas as pd\n",
    "import numpy as np\n",
    "%matplotlib inline"
   ]
  },
  {
   "cell_type": "markdown",
   "id": "afc166ea",
   "metadata": {
    "slideshow": {
     "slide_type": "slide"
    }
   },
   "source": [
    "## Dynamic programming: a simple example\n",
    "\n",
    "Consider a classical problem.\n",
    "\n",
    "- You have coins, 1, 10, and 25 cents (as many as necessary)\n",
    "- **The problem:** make $C$ cents in change, using as few coins as possible.\n",
    "\n",
    "**Any ideas** how to solve this?"
   ]
  },
  {
   "cell_type": "markdown",
   "id": "bc56f188",
   "metadata": {
    "slideshow": {
     "slide_type": "fragment"
    }
   },
   "source": [
    "- **greedy:** always use the largest available coin."
   ]
  },
  {
   "cell_type": "markdown",
   "id": "d35c5d44",
   "metadata": {
    "slideshow": {
     "slide_type": "fragment"
    }
   },
   "source": [
    "However: $C$ = 34 cents. \n",
    "- Greedy gives: 1 x (25) + 9 x (1) = 10 coins\n",
    "- But we could do 3 x (10) + 4 x (1) = 7 coins!"
   ]
  },
  {
   "cell_type": "markdown",
   "id": "60324e86",
   "metadata": {
    "slideshow": {
     "slide_type": "slide"
    }
   },
   "source": [
    "**Alternatively:** exhaustive search.\n",
    "- consider all first-step decisions,\n",
    "- recursively do with the second step,\n",
    "- ..."
   ]
  },
  {
   "cell_type": "code",
   "execution_count": 2,
   "id": "57950d9a",
   "metadata": {
    "slideshow": {
     "slide_type": "fragment"
    }
   },
   "outputs": [],
   "source": [
    "def min_coins(C):\n",
    "    \"\"\"Solves the problem with exhaustive search.\"\"\"\n",
    "    current_min = -1\n",
    "    \n",
    "    for next_coin in [1,10,25]:\n",
    "        if C - next_coin < 0:\n",
    "            break\n",
    "            \n",
    "        best_no_coins = min_coins(C - next_coin)\n",
    "        \n",
    "        if current_min==-1 or best_no_coins < current_min:\n",
    "            current_min = best_no_coins\n",
    "    \n",
    "    return current_min + 1"
   ]
  },
  {
   "cell_type": "code",
   "execution_count": 3,
   "id": "d80ecb6b",
   "metadata": {
    "slideshow": {
     "slide_type": "fragment"
    }
   },
   "outputs": [
    {
     "data": {
      "text/plain": [
       "7"
      ]
     },
     "execution_count": 3,
     "metadata": {},
     "output_type": "execute_result"
    }
   ],
   "source": [
    "min_coins(34)"
   ]
  },
  {
   "cell_type": "markdown",
   "id": "6fcbf779",
   "metadata": {
    "slideshow": {
     "slide_type": "fragment"
    }
   },
   "source": [
    "What's the problem with this implementation?"
   ]
  },
  {
   "cell_type": "code",
   "execution_count": 4,
   "id": "008336ab",
   "metadata": {
    "slideshow": {
     "slide_type": "slide"
    }
   },
   "outputs": [],
   "source": [
    "def get_runtimes(C, solve_func):\n",
    "    \"\"\"Calculates the runtime in seconds, for C.\"\"\"\n",
    "    t0 = time()\n",
    "    solve_func(C)\n",
    "    t1 = time()\n",
    "    return t1-t0\n",
    "\n",
    "def runtimes_figure(solve_func, plt_color='r-', plt_label=\"min_coins\"):\n",
    "    \"\"\"Makes a plot of runtimes.\"\"\"\n",
    "    Cmin = 50; Cmax = 80\n",
    "    runtimes = [get_runtimes(C, solve_func) for C in range(Cmin,Cmax)]\n",
    "    \n",
    "    plt.rcParams.update({'font.size': 28})\n",
    "    plt.xticks(rotation=90)\n",
    "    plt.plot([C for C in range(Cmin,Cmax)], runtimes, plt_color, label=plt_label)\n",
    "    plt.gca().set(xlabel='Problem parameter, C', ylabel='Runtimes, sec')\n",
    "    plt.legend(fontsize=28)"
   ]
  },
  {
   "cell_type": "code",
   "execution_count": 5,
   "id": "0610dc54",
   "metadata": {
    "slideshow": {
     "slide_type": "slide"
    }
   },
   "outputs": [
    {
     "data": {
      "image/png": "[encoded data removed]",
      "text/plain": [
       "<Figure size 1152x720 with 1 Axes>"
      ]
     },
     "metadata": {
      "needs_background": "light"
     },
     "output_type": "display_data"
    }
   ],
   "source": [
    "plt.figure(figsize = (16,10)); \n",
    "runtimes_figure(min_coins)"
   ]
  },
  {
   "cell_type": "markdown",
   "id": "ee9e59be",
   "metadata": {
    "slideshow": {
     "slide_type": "fragment"
    }
   },
   "source": [
    "🤦 Ok, let's try to figure out if we can improve it..."
   ]
  },
  {
   "cell_type": "code",
   "execution_count": 6,
   "id": "e41a12d1",
   "metadata": {
    "slideshow": {
     "slide_type": "slide"
    }
   },
   "outputs": [],
   "source": [
    "calls = {}\n",
    "\n",
    "def min_coins_debug(C):\n",
    "    \"\"\"Solves the problem with exhaustive search.\"\"\"\n",
    "    global calls\n",
    "    if C in calls.keys():  # +---\n",
    "        calls[C] += 1      # | So, this part\n",
    "    else:                  # | is new: counting calls.\n",
    "        calls[C] = 1       # +---\n",
    "        \n",
    "    current_min = -1\n",
    "\n",
    "    for next_coin in [1,10,25]:\n",
    "        if C - next_coin < 0:\n",
    "            break\n",
    "            \n",
    "        best_no_coins = min_coins_debug(C - next_coin)\n",
    "        \n",
    "        if current_min==-1 or best_no_coins < current_min:\n",
    "            current_min = best_no_coins\n",
    "    \n",
    "    return current_min + 1"
   ]
  },
  {
   "cell_type": "code",
   "execution_count": 7,
   "id": "37ad23a1",
   "metadata": {
    "scrolled": true,
    "slideshow": {
     "slide_type": "slide"
    }
   },
   "outputs": [
    {
     "name": "stdout",
     "output_type": "stream",
     "text": [
      "Summary of calls to `min_coins`:\n",
      "with C=34:   1 times\n",
      "with C=33:   1 times\n",
      "with C=32:   1 times\n",
      "with C=31:   1 times\n",
      "with C=30:   1 times\n",
      "with C=29:   1 times\n",
      "with C=28:   1 times\n",
      "with C=27:   1 times\n",
      "with C=26:   1 times\n",
      "with C=25:   1 times\n",
      "with C=24:   2 times\n",
      "with C=23:   3 times\n",
      "with C=22:   4 times\n",
      "with C=21:   5 times\n",
      "with C=20:   6 times\n",
      "with C=19:   7 times\n",
      "with C=18:   8 times\n",
      "with C=17:   9 times\n",
      "with C=16:  10 times\n",
      "with C=15:  11 times\n",
      "with C=14:  13 times\n",
      "with C=13:  16 times\n",
      "with C=12:  20 times\n",
      "with C=11:  25 times\n",
      "with C=10:  31 times\n",
      "with C= 9:  39 times\n",
      "with C= 8:  48 times\n",
      "with C= 7:  58 times\n",
      "with C= 6:  69 times\n",
      "with C= 5:  81 times\n",
      "with C= 4:  95 times\n",
      "with C= 3: 112 times\n",
      "with C= 2: 133 times\n",
      "with C= 1: 159 times\n",
      "with C= 0: 191 times\n"
     ]
    }
   ],
   "source": [
    "calls = {}\n",
    "min_coins_debug(34)\n",
    "\n",
    "print(\"Summary of calls to `min_coins`:\")\n",
    "\n",
    "for C in calls.keys():\n",
    "    print(f\"with C={C:2d}: {calls[C]:3d} times\")"
   ]
  },
  {
   "cell_type": "markdown",
   "id": "9de7138a",
   "metadata": {
    "slideshow": {
     "slide_type": "fragment"
    }
   },
   "source": [
    "Aha! Here's an obvious problem! What do we do?"
   ]
  },
  {
   "cell_type": "markdown",
   "id": "1baad7fb",
   "metadata": {
    "slideshow": {
     "slide_type": "slide"
    }
   },
   "source": [
    "Let's maybe just save all the subproblem solutions as we go?"
   ]
  },
  {
   "cell_type": "code",
   "execution_count": 8,
   "id": "ab637904",
   "metadata": {
    "slideshow": {
     "slide_type": "subslide"
    }
   },
   "outputs": [],
   "source": [
    "_subproblems = {}\n",
    "\n",
    "def min_coins_smarter(C, initial_call = True):\n",
    "    \"\"\"Solves the problem saving subproblems along the way.\"\"\"\n",
    "    global _subproblems  # not a really good kung-fu, but would work\n",
    "    current_min = -1\n",
    "    \n",
    "    if initial_call:\n",
    "        _subproblems = dict()\n",
    "\n",
    "    if C in _subproblems.keys():\n",
    "        return _subproblems[C]\n",
    "    \n",
    "    for next_coin in [1,10,25]:\n",
    "        if C - next_coin < 0:\n",
    "            break\n",
    "            \n",
    "        if (C - next_coin) in _subproblems.keys():\n",
    "            best_no_coins = _subproblems[C-next_coin]\n",
    "        else:\n",
    "            best_no_coins = min_coins_smarter(C - next_coin, initial_call = False)\n",
    "            _subproblems[C - next_coin] = best_no_coins\n",
    "        \n",
    "        if current_min==-1 or best_no_coins < current_min:\n",
    "            current_min = best_no_coins\n",
    "    \n",
    "    return current_min + 1"
   ]
  },
  {
   "cell_type": "code",
   "execution_count": 9,
   "id": "5730a4a3",
   "metadata": {
    "slideshow": {
     "slide_type": "subslide"
    }
   },
   "outputs": [
    {
     "data": {
      "image/png": "[encoded data removed]",
      "text/plain": [
       "<Figure size 1152x720 with 1 Axes>"
      ]
     },
     "metadata": {
      "needs_background": "light"
     },
     "output_type": "display_data"
    }
   ],
   "source": [
    "plt.figure(figsize = (16,10))\n",
    "runtimes_figure(min_coins_smarter, \"b-\", \"min_coins_smarter\")\n",
    "runtimes_figure(min_coins, \"r-\", \"min_coins\")"
   ]
  },
  {
   "cell_type": "markdown",
   "id": "802904ba",
   "metadata": {
    "slideshow": {
     "slide_type": "slide"
    }
   },
   "source": [
    "Is it a mistake? A typo in the code somewhere, so it does not run?"
   ]
  },
  {
   "cell_type": "code",
   "execution_count": 10,
   "id": "9d094188",
   "metadata": {
    "slideshow": {
     "slide_type": "fragment"
    }
   },
   "outputs": [
    {
     "name": "stdout",
     "output_type": "stream",
     "text": [
      "CPU times: user 1.79 s, sys: 28 µs, total: 1.79 s\n",
      "Wall time: 1.79 s\n"
     ]
    },
    {
     "data": {
      "text/plain": [
       "5"
      ]
     },
     "execution_count": 10,
     "metadata": {},
     "output_type": "execute_result"
    }
   ],
   "source": [
    "%time min_coins(80)"
   ]
  },
  {
   "cell_type": "code",
   "execution_count": 11,
   "id": "cd24136a",
   "metadata": {
    "slideshow": {
     "slide_type": "fragment"
    }
   },
   "outputs": [
    {
     "name": "stdout",
     "output_type": "stream",
     "text": [
      "CPU times: user 117 µs, sys: 1 µs, total: 118 µs\n",
      "Wall time: 123 µs\n"
     ]
    },
    {
     "data": {
      "text/plain": [
       "5"
      ]
     },
     "execution_count": 11,
     "metadata": {},
     "output_type": "execute_result"
    }
   ],
   "source": [
    "%time min_coins_smarter(80)"
   ]
  },
  {
   "cell_type": "markdown",
   "id": "1d37e528",
   "metadata": {
    "slideshow": {
     "slide_type": "subslide"
    }
   },
   "source": [
    "Okay, are the answers correct indeed?"
   ]
  },
  {
   "cell_type": "code",
   "execution_count": 12,
   "id": "7e46e4fc",
   "metadata": {
    "slideshow": {
     "slide_type": "fragment"
    }
   },
   "outputs": [
    {
     "name": "stdout",
     "output_type": "stream",
     "text": [
      "[............................................................] done\n"
     ]
    }
   ],
   "source": [
    "def cross_check(func_1, func_2):\n",
    "    \"\"\"Checks that two approaches give the same result.\"\"\"\n",
    "    print(\"[\", end=\"\")\n",
    "    for C in range (10,70):\n",
    "        if func_1(C) == func_2(C):\n",
    "            print(\".\", end=\"\")\n",
    "        else:\n",
    "            print(f\"ERROR for C={C}\")\n",
    "\n",
    "    print(\"] done\")\n",
    "    \n",
    "cross_check(min_coins, min_coins_smarter)"
   ]
  },
  {
   "cell_type": "markdown",
   "id": "83c07097",
   "metadata": {
    "slideshow": {
     "slide_type": "fragment"
    }
   },
   "source": [
    "🎉🎉🎉"
   ]
  },
  {
   "cell_type": "markdown",
   "id": "44ec849b",
   "metadata": {
    "slideshow": {
     "slide_type": "slide"
    }
   },
   "source": [
    "### What has happened?\n",
    "We can think about the problem sort of *backwards*:\n",
    "\n",
    "Let $m(C)$ be an optimal number of coins to make $C$ in change. Then:\n",
    "\n",
    "\\begin{equation*}\n",
    "m(C)=1+\\min\\{m(C-1), m(C-10), m(C-25)\\}.\n",
    "\\end{equation*}\n",
    "\n",
    "(Technically, we'd need to add that $m(0)=0$ and $m(C)=+\\infty$ for $C<0$.)"
   ]
  },
  {
   "cell_type": "markdown",
   "id": "162cd7ac",
   "metadata": {
    "slideshow": {
     "slide_type": "slide"
    }
   },
   "source": [
    "So, in principle, we could implement it the other way around. For convenience, let me rephrase the condition above as follows:\n",
    "- define an array of $M(c)$-s, $c=1,\\ldots,C$, so that\n",
    "- $M(c)$ would mean \"optimal number of coins I need to make $C$ in change (in total) **if I already have** $c$.\n",
    "- then $M(c) = 1 + min\\{M(c+1),~M(c+10),~M(C+25)\\}$.\n",
    "- (Again, assuming $M(c)=+\\infty$ for $c>C$.)\n",
    "\n",
    "So, since we know $M(C)=0$ (we already have what we need!), we can just fill the whole array in backwards! Also, this way it is obvious that the runtime is $O(C)$.\n",
    "\n",
    "This is a classical example of **\"Dynamic Programming\"** approach (R.E. Bellman 1953): think, decomposing the problem into smaller sub-problems sort-of-recursively."
   ]
  },
  {
   "cell_type": "code",
   "execution_count": 13,
   "id": "595894e7",
   "metadata": {
    "slideshow": {
     "slide_type": "slide"
    }
   },
   "outputs": [
    {
     "data": {
      "text/plain": [
       "7"
      ]
     },
     "execution_count": 13,
     "metadata": {},
     "output_type": "execute_result"
    }
   ],
   "source": [
    "def min_coins_DP(C):\n",
    "    \"\"\"Implements a DP approach for the problem.\"\"\"\n",
    "    M = [0 for c in range(C+1)]\n",
    "    INF = 2*C  # I will treat this number as infinity\n",
    "    \n",
    "    for c in reversed(range(C)):\n",
    "        M[c] = 1 + min([ M[c + coin] \n",
    "                      if (c + coin) <= C else INF \n",
    "                      for coin in [1, 10, 25]\n",
    "                     ])\n",
    "    return M[0]\n",
    "\n",
    "min_coins_DP(34)"
   ]
  },
  {
   "cell_type": "code",
   "execution_count": 14,
   "id": "f2c6d637",
   "metadata": {
    "slideshow": {
     "slide_type": "fragment"
    }
   },
   "outputs": [
    {
     "name": "stdout",
     "output_type": "stream",
     "text": [
      "[............................................................] done\n"
     ]
    }
   ],
   "source": [
    "cross_check(min_coins_smarter, min_coins_DP)"
   ]
  },
  {
   "cell_type": "markdown",
   "id": "e0f65ed6",
   "metadata": {
    "slideshow": {
     "slide_type": "slide"
    }
   },
   "source": [
    "Of course, the time is linear in $C$: if runtime $T(C)=\\alpha C + \\beta$, where $\\alpha$ and $\\beta$ are some constants, then \n",
    "$$T(C+1) - T(C) = \\alpha ((C+1) - C) = \\alpha= \\textrm{Const},$$\n",
    "which we can just check numerically:"
   ]
  },
  {
   "cell_type": "code",
   "execution_count": 15,
   "id": "9f78e19e",
   "metadata": {
    "slideshow": {
     "slide_type": "fragment"
    }
   },
   "outputs": [
    {
     "data": {
      "text/plain": [
       "(-0.005, 0.005)"
      ]
     },
     "execution_count": 15,
     "metadata": {},
     "output_type": "execute_result"
    },
    {
     "data": {
      "image/png": "[encoded data removed]",
      "text/plain": [
       "<Figure size 432x288 with 1 Axes>"
      ]
     },
     "metadata": {
      "needs_background": "light"
     },
     "output_type": "display_data"
    }
   ],
   "source": [
    "Cmin = 1; Cmax = 2000\n",
    "runtimes = [get_runtimes(C, min_coins_DP) for C in range(Cmin,Cmax)]\n",
    "\n",
    "dTs = [runtimes[i+1] - runtimes[i] for i in range(Cmax-Cmin-1)]\n",
    "\n",
    "plt.rcParams.update({'font.size': 28})\n",
    "plt.xticks(rotation=90)\n",
    "plt.plot([C for C in range(Cmin, Cmax-1)], dTs, 'r-', label=\"runtime coefficient\")\n",
    "plt.ylim(-0.005,0.005)"
   ]
  },
  {
   "cell_type": "markdown",
   "id": "1bfb73a5",
   "metadata": {},
   "source": [
    "### How to reconstruct a solution, though?"
   ]
  },
  {
   "cell_type": "markdown",
   "id": "e4dcd00b",
   "metadata": {
    "slideshow": {
     "slide_type": "slide"
    }
   },
   "source": [
    "### Bottomline:\n",
    "- DP basically means decomposing the problem recursively into subproblems,\n",
    "- so that it would be easy to solve them in certain order. (Because at each step we would know the solutions to part of the subproblems, and we could re-use many of them several times.)\n",
    "- usually, we reconstruct a solution by making another pass (or just saving things as we go)\n",
    "\n",
    "**Note:** \n",
    "- our previous implementation solved the same subproblems, so \n",
    "- it was in fact an implementation of DP as well. \n",
    "\n",
    "(This is something called *memoization* -- when you save and re-use your intermediary subproblems results)."
   ]
  },
  {
   "cell_type": "markdown",
   "id": "0c7b64cc",
   "metadata": {
    "slideshow": {
     "slide_type": "slide"
    }
   },
   "source": [
    "- Designing such algorithms, and actually recognizing algorithms that can be solved with DP just takes practice.\n",
    "- (basically, any algorithms textbook would help; see, e.g.,  this course [summary](./README.org))"
   ]
  },
  {
   "cell_type": "markdown",
   "id": "d5970990",
   "metadata": {
    "slideshow": {
     "slide_type": "slide"
    }
   },
   "source": [
    "## An application: Needleman-Wunsch algorithm\n",
    "\n",
    "OK, let's just look at an example of a DP algorithm.\n",
    "\n",
    "**Disclaimer:** I am not an expert on the underlying biology, or bioinformatics (luckily, you have many such people around on the School!). \n",
    "\n",
    "So, I will be discussing a very basic version of the algorithm, and almost entirely from a CS perspective -- as an illustration of DP approach. There is state of the art is far, far away already; however, you are on a good track to catch up!"
   ]
  },
  {
   "cell_type": "markdown",
   "id": "0dcfc46a",
   "metadata": {
    "slideshow": {
     "slide_type": "slide"
    }
   },
   "source": [
    "### The problem: align protein / nucleotide sequences\n",
    "Assume we have two sequences:\n",
    "\n",
    "    A = TGGTG\n",
    "    B = ATCGT\n",
    "... and we would like to compare them.\n",
    "\n",
    "**The trouble is:** the life has been happening, so we need to *align* these two strings, by inserting \"spaces\" (which are called *indels*, INsertions or DELetions)."
   ]
  },
  {
   "cell_type": "markdown",
   "id": "919e8e27",
   "metadata": {
    "slideshow": {
     "slide_type": "slide"
    }
   },
   "source": [
    "### Scoring\n",
    "For each pair of letters after the alignment, we assign scores, such as:\n",
    "\n",
    "         v     \n",
    "    GCAT|G|-CU\n",
    "    G-AT|T|ACA   \n",
    "         ^\n",
    "we can have either of the following situations:\n",
    "- a match (score `+1`)\n",
    "- a mismatch (score `-1`)\n",
    "- an indel (score `-2`)\n",
    "\n",
    "E.g., this alignment above would yield:\n",
    "\n",
    "    GCATG-CU\n",
    "    G-ATTACA\n",
    "    +I++-I+- = -2\n",
    "(Again: there are several approaches to assign scores, and there are several algorithms in general, but let us discuss this one.)"
   ]
  },
  {
   "cell_type": "markdown",
   "id": "cce388c2",
   "metadata": {
    "slideshow": {
     "slide_type": "slide"
    }
   },
   "source": [
    "**The problem:** how to find a best alignment then, if we are allowed to insert a \"space\" anywhere we like?"
   ]
  },
  {
   "cell_type": "markdown",
   "id": "81aa875f",
   "metadata": {
    "slideshow": {
     "slide_type": "fragment"
    }
   },
   "source": [
    "**An answer:** let's try DP!\n",
    "\n",
    "And the key to DP is to choose the right function that will track the objective and allow for problem decomposition (which was $M(C)$ in the previous example). Let's do it as follows."
   ]
  },
  {
   "cell_type": "markdown",
   "id": "1dfe5d2a",
   "metadata": {
    "slideshow": {
     "slide_type": "slide"
    }
   },
   "source": [
    "Consider a table, with rows corresponding to the letters of the first sequence, and columns -- to the second one (adding an artificial \"space\" in the beginning of both):\n",
    "\n",
    "![Mtable](img/NW_table.png)"
   ]
  },
  {
   "cell_type": "markdown",
   "id": "4a2b2393",
   "metadata": {
    "slideshow": {
     "slide_type": "subslide"
    }
   },
   "source": [
    "**First: we know how to initialize it!**"
   ]
  },
  {
   "cell_type": "markdown",
   "id": "0c437863",
   "metadata": {
    "slideshow": {
     "slide_type": "subslide"
    }
   },
   "source": [
    "![Mtable](img/NW_table_init.png)"
   ]
  },
  {
   "cell_type": "markdown",
   "id": "2d656816",
   "metadata": {
    "slideshow": {
     "slide_type": "subslide"
    }
   },
   "source": [
    "![Mtable](img/NW_table_step.png)"
   ]
  },
  {
   "cell_type": "markdown",
   "id": "08d82ad1",
   "metadata": {
    "slideshow": {
     "slide_type": "subslide"
    }
   },
   "source": [
    "Well, given that\n",
    "$$M_{ij} = \\max\\{M_{i-1,j-1}+S_{i,j}, M_{i-1,j}+d, M_{i,j-1}+d\\},$$\n",
    "where $S_{i,j}$ is a (mis)match score for sequences elements $i$ and $j$, and $d$ is a gap penalty -- the rest is easy:"
   ]
  },
  {
   "cell_type": "code",
   "execution_count": 22,
   "id": "e0f9f0a7",
   "metadata": {
    "slideshow": {
     "slide_type": "subslide"
    }
   },
   "outputs": [],
   "source": [
    "def NW_calculate_M(A, B, match_score, mismatch_score, d):\n",
    "    \"\"\"(Globally) aligns two sequences.\n",
    "    \n",
    "    Args:\n",
    "        A, B (str): sequences to align,\n",
    "        match_score, mismatch_score, d (float): scoring scheme.\n",
    "        \n",
    "    Returns:\n",
    "        Matrix M.\n",
    "    \"\"\"\n",
    "    M = [[0.0 for j in range(len(B)+1)] for i in range(len(A)+1)]\n",
    "    \n",
    "    # Initialization\n",
    "    for i in range(len(A)+1):\n",
    "        M[i][0] = i*d\n",
    "    \n",
    "    for j in range(len(B)+1):\n",
    "        M[0][j] = j*d\n",
    "        \n",
    "    # Filling in the matrix\n",
    "    for j in range(1, len(B)+1):\n",
    "        for i in range(1, len(A)+1):\n",
    "            if A[i-1] == B[j-1]:\n",
    "                match_term = match_score\n",
    "            else:\n",
    "                match_term = mismatch_score\n",
    "                \n",
    "            M[i][j] = max([ M[i-1][j-1] + match_term,\n",
    "                         M[i-1][j]+d,\n",
    "                         M[i][j-1]+d])\n",
    "    \n",
    "    return M"
   ]
  },
  {
   "cell_type": "code",
   "execution_count": 23,
   "id": "c1974c5f",
   "metadata": {
    "slideshow": {
     "slide_type": "subslide"
    }
   },
   "outputs": [
    {
     "name": "stdout",
     "output_type": "stream",
     "text": [
      "    -  T  G  G  T   G\n",
      "-   0 -2 -4 -6 -8 -10\n",
      "A  -2 -1 -3 -5 -7  -9\n",
      "T  -4 -1 -2 -4 -4  -6\n",
      "C  -6 -3 -2 -3 -5  -5\n",
      "G  -8 -5 -2 -1 -3  -4\n",
      "T -10 -7 -4 -3  0  -2\n",
      "\n",
      "Optimal score is (bottom right number): -2\n"
     ]
    }
   ],
   "source": [
    "A = \"ATCGT\"\n",
    "B = \"TGGTG\"\n",
    "\n",
    "M = NW_calculate_M(\"ATCGT\", \"TGGTG\", +1, -1, -2)\n",
    " \n",
    "pd_M = pd.DataFrame(M)\n",
    "pd_M.index = [\"-\"]+[x for x in A]\n",
    "pd_M.columns = [\"-\"]+[x for x in B]\n",
    "\n",
    "print(pd_M)\n",
    "print(f\"\\nOptimal score is (bottom right number): {np.array(M)[5][5]}\")"
   ]
  },
  {
   "cell_type": "markdown",
   "id": "fa435734",
   "metadata": {
    "slideshow": {
     "slide_type": "subslide"
    }
   },
   "source": [
    "### And how to recover a solution?\n",
    "Well, we can just make a backward pass! (breaking ties arbitrarily, if we do not care about alternative optima)"
   ]
  },
  {
   "cell_type": "code",
   "execution_count": 24,
   "id": "9271ba0c",
   "metadata": {
    "slideshow": {
     "slide_type": "subslide"
    }
   },
   "outputs": [],
   "source": [
    "def recover_alignment(A, B, match_score, mismatch_score, d, M):\n",
    "    \"\"\"Recovers an optimal alignment.\"\"\"\n",
    "    Ap = \"\"; Bp = \"\"\n",
    "    \n",
    "    i = len(A)-1; j = len(B)-1\n",
    "    \n",
    "    while (i >= 0) or (j >= 0):\n",
    "        if A[i] == B[j]:\n",
    "            match_term = match_score\n",
    "        else:\n",
    "            match_term = mismatch_score\n",
    "            \n",
    "        if (i >= 0) and (j >=0) and \\\n",
    "            M[i+1][j+1] == M[i][j] + match_term:\n",
    "            Ap = A[i] + Ap \n",
    "            Bp = B[j] + Bp\n",
    "            i -= 1; j -= 1\n",
    "            \n",
    "        elif (i >= 0) and M[i+1][j+1] == M[i][j+1] + d:\n",
    "            Ap = A[i] + Ap\n",
    "            Bp = \"‒\" + Bp\n",
    "            i -= 1\n",
    "        else:\n",
    "            Ap = \"‒\" + Ap\n",
    "            Bp = B[j] + Bp\n",
    "            j -= 1\n",
    "            \n",
    "    return Ap, Bp"
   ]
  },
  {
   "cell_type": "code",
   "execution_count": 25,
   "id": "d53ca712",
   "metadata": {
    "slideshow": {
     "slide_type": "subslide"
    }
   },
   "outputs": [],
   "source": [
    "def my_NW(A,B):\n",
    "    \"\"\"Prints the alignment results for A and B.\"\"\"\n",
    "    M = NW_calculate_M(A,B,+1, -1, -2)\n",
    "    Ap, Bp = recover_alignment(A,B, +1, -1, -2, np.array(M))\n",
    "    print(\"Before the alignment:\")\n",
    "    print(f\"A = {A}\")\n",
    "    print(f\"B = {B}\")\n",
    "    print(\"***\\nAfter the alignment:\")\n",
    "    print(f\"A'= {Ap}\")\n",
    "    print(f\"B'= {Bp}\")\n",
    "    print(f\"***\\nOptimal score: {M[-1][-1]}\")"
   ]
  },
  {
   "cell_type": "code",
   "execution_count": 26,
   "id": "5e4e8138",
   "metadata": {
    "slideshow": {
     "slide_type": "fragment"
    }
   },
   "outputs": [
    {
     "name": "stdout",
     "output_type": "stream",
     "text": [
      "Before the alignment:\n",
      "A = ATCGT\n",
      "B = TGGTG\n",
      "***\n",
      "After the alignment:\n",
      "A'= ATCGT‒\n",
      "B'= ‒TGGTG\n",
      "***\n",
      "Optimal score: -2\n"
     ]
    }
   ],
   "source": [
    "my_NW(\"ATCGT\", \"TGGTG\")"
   ]
  },
  {
   "cell_type": "code",
   "execution_count": 27,
   "id": "780e97d6",
   "metadata": {
    "slideshow": {
     "slide_type": "subslide"
    }
   },
   "outputs": [
    {
     "name": "stdout",
     "output_type": "stream",
     "text": [
      "Before the alignment:\n",
      "A = TGCATGAAAGGCCGTG\n",
      "B = CAATAAGCGTCAAACTGC\n",
      "***\n",
      "After the alignment:\n",
      "A'= TGCATGAAAGGC‒‒CGTG‒\n",
      "B'= ‒CAATAAGCGTCAAACTGC\n",
      "***\n",
      "Optimal score: -9\n"
     ]
    }
   ],
   "source": [
    "my_NW(\"TGCATGAAAGGCCGTG\", \"CAATAAGCGTCAAACTGC\")"
   ]
  },
  {
   "cell_type": "markdown",
   "id": "17cae53e",
   "metadata": {
    "slideshow": {
     "slide_type": "subslide"
    }
   },
   "source": [
    "### A concluding note\n",
    "- again, the state of the art is far ahead --- ask around if interested!\n",
    "- but I think this is a nice example of a practically useful application of Dynamic Programming!"
   ]
  },
  {
   "cell_type": "markdown",
   "id": "cf81c4a5",
   "metadata": {
    "slideshow": {
     "slide_type": "subslide"
    }
   },
   "source": [
    "### Also, a question to think about with ☕:\n",
    "\n",
    "recalling that\n",
    "$$M_{ij} = \\max\\{M_{i-1,j-1}+S_{i,j}, M_{i-1,j}+d, M_{i,j-1}+d\\},$$\n",
    "where $S_{i,j}$ is a (mis)match score for sequences elements $i$ and $j$, and $d$ is a gap penalty\n",
    "\n",
    "> **how fast is the algorithm**, in terms of $|A|$ and $|B|$ (and Big-O notation)?.."
   ]
  },
  {
   "cell_type": "markdown",
   "id": "85e05749",
   "metadata": {
    "slideshow": {
     "slide_type": "slide"
    }
   },
   "source": [
    "OK, we considered two examples: coins & change (a \"toy\" one) and Needleman-Wunsch (a \"real\" one).\n",
    "\n",
    "### Take-aways\n",
    "- DP basically means decomposing the problem recursively into subproblems,\n",
    "- so that it would be easy to solve them in certain order. \n",
    "- (Because at each step we build up a solution for a bigger subproblem from the smaller ones)\n",
    "- usually, we reconstruct a solution by making another pass (or just saving things as we go)\n",
    "- DP can be implemented in several ways, bottom-up or top-down.\n",
    "- sometimes it helps"
   ]
  }
 ],
 "metadata": {
  "celltoolbar": "Slideshow",
  "kernelspec": {
   "display_name": "Python 3",
   "language": "python",
   "name": "python3"
  },
  "language_info": {
   "codemirror_mode": {
    "name": "ipython",
    "version": 3
   },
   "file_extension": ".py",
   "mimetype": "text/x-python",
   "name": "python",
   "nbconvert_exporter": "python",
   "pygments_lexer": "ipython3",
   "version": "3.8.5"
  },
  "rise": {
   "theme": "moon"
  }
 },
 "nbformat": 4,
 "nbformat_minor": 5
}
